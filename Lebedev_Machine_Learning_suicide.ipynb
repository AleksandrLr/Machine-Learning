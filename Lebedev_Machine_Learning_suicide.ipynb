{
  "nbformat": 4,
  "nbformat_minor": 0,
  "metadata": {
    "colab": {
      "name": "suicide_last1.ipynb",
      "provenance": [],
      "collapsed_sections": []
    },
    "kernelspec": {
      "name": "python3",
      "display_name": "Python 3"
    }
  },
  "cells": [
    {
      "cell_type": "code",
      "metadata": {
        "id": "CLJC4n2RjIX7"
      },
      "source": [
        "import numpy as np              \n",
        "import matplotlib.pyplot as plt \n",
        "%matplotlib inline \n",
        "import pandas as pd             \n",
        "import seaborn as sns           \n",
        "import sklearn                  "
      ],
      "execution_count": 1,
      "outputs": []
    },
    {
      "cell_type": "markdown",
      "metadata": {
        "id": "oZrNZ7HdkCY_"
      },
      "source": [
        "# **Обзор уровня самоубийств с 1985 по 2016 год**"
      ]
    },
    {
      "cell_type": "markdown",
      "metadata": {
        "id": "U0pnClrxkn-m"
      },
      "source": [
        "В данном наборе данных собрана информация для выявления факторов коррелирующих с повышением уровня самоубийств среди различных групп по всему миру. "
      ]
    },
    {
      "cell_type": "markdown",
      "metadata": {
        "id": "nJo6661Bt8In"
      },
      "source": [
        "#**1. Загружаем данные**"
      ]
    },
    {
      "cell_type": "markdown",
      "metadata": {
        "id": "GWz3JjevuVhq"
      },
      "source": [
        "Таблица содержит данные о более 27800 группах самоубийц. Для каждой группы указан год, страна, возрастной диапазон, пол, поколение, количество самоубийств данной группы в конкретный год, общее количество людей данного возрастного диапазона в конкретный год, количество самоубийц на 100 тысяч населения, уровни абсолютного и подушевого ВВП, индекс человеческого развития."
      ]
    },
    {
      "cell_type": "code",
      "metadata": {
        "id": "1DpwFHTwj0TC"
      },
      "source": [
        "url=\"https://raw.githubusercontent.com/pp3000/Machine-Learning/master/master.csv\"\n",
        "data = pd.read_csv(url)"
      ],
      "execution_count": 2,
      "outputs": []
    },
    {
      "cell_type": "markdown",
      "metadata": {
        "id": "-LyXHnu59VVG"
      },
      "source": [
        "Посмотрим на размер таблицы"
      ]
    },
    {
      "cell_type": "code",
      "metadata": {
        "id": "0ucZK7OTj2pf",
        "colab": {
          "base_uri": "https://localhost:8080/"
        },
        "outputId": "be2213bf-8950-40a6-c872-497a56ccba80"
      },
      "source": [
        "data.shape"
      ],
      "execution_count": 3,
      "outputs": [
        {
          "output_type": "execute_result",
          "data": {
            "text/plain": [
              "(27820, 12)"
            ]
          },
          "metadata": {
            "tags": []
          },
          "execution_count": 3
        }
      ]
    },
    {
      "cell_type": "markdown",
      "metadata": {
        "id": "H_9tnnv_9frP"
      },
      "source": [
        "Выведем первые 5 строк таблицы"
      ]
    },
    {
      "cell_type": "code",
      "metadata": {
        "id": "BLiVscIOj4LH",
        "colab": {
          "base_uri": "https://localhost:8080/",
          "height": 204
        },
        "outputId": "7df4bd2e-f40f-4b58-9c43-39545bb4aa3f"
      },
      "source": [
        "data.head()"
      ],
      "execution_count": 4,
      "outputs": [
        {
          "output_type": "execute_result",
          "data": {
            "text/html": [
              "<div>\n",
              "<style scoped>\n",
              "    .dataframe tbody tr th:only-of-type {\n",
              "        vertical-align: middle;\n",
              "    }\n",
              "\n",
              "    .dataframe tbody tr th {\n",
              "        vertical-align: top;\n",
              "    }\n",
              "\n",
              "    .dataframe thead th {\n",
              "        text-align: right;\n",
              "    }\n",
              "</style>\n",
              "<table border=\"1\" class=\"dataframe\">\n",
              "  <thead>\n",
              "    <tr style=\"text-align: right;\">\n",
              "      <th></th>\n",
              "      <th>country</th>\n",
              "      <th>year</th>\n",
              "      <th>sex</th>\n",
              "      <th>age</th>\n",
              "      <th>suicides_no</th>\n",
              "      <th>population</th>\n",
              "      <th>suicides/100k pop</th>\n",
              "      <th>country-year</th>\n",
              "      <th>HDI for year</th>\n",
              "      <th>gdp_for_year ($)</th>\n",
              "      <th>gdp_per_capita ($)</th>\n",
              "      <th>generation</th>\n",
              "    </tr>\n",
              "  </thead>\n",
              "  <tbody>\n",
              "    <tr>\n",
              "      <th>0</th>\n",
              "      <td>Albania</td>\n",
              "      <td>1987</td>\n",
              "      <td>male</td>\n",
              "      <td>15-24 years</td>\n",
              "      <td>21</td>\n",
              "      <td>312900</td>\n",
              "      <td>6.71</td>\n",
              "      <td>Albania1987</td>\n",
              "      <td>NaN</td>\n",
              "      <td>2,156,624,900</td>\n",
              "      <td>796</td>\n",
              "      <td>Generation X</td>\n",
              "    </tr>\n",
              "    <tr>\n",
              "      <th>1</th>\n",
              "      <td>Albania</td>\n",
              "      <td>1987</td>\n",
              "      <td>male</td>\n",
              "      <td>35-54 years</td>\n",
              "      <td>16</td>\n",
              "      <td>308000</td>\n",
              "      <td>5.19</td>\n",
              "      <td>Albania1987</td>\n",
              "      <td>NaN</td>\n",
              "      <td>2,156,624,900</td>\n",
              "      <td>796</td>\n",
              "      <td>Silent</td>\n",
              "    </tr>\n",
              "    <tr>\n",
              "      <th>2</th>\n",
              "      <td>Albania</td>\n",
              "      <td>1987</td>\n",
              "      <td>female</td>\n",
              "      <td>15-24 years</td>\n",
              "      <td>14</td>\n",
              "      <td>289700</td>\n",
              "      <td>4.83</td>\n",
              "      <td>Albania1987</td>\n",
              "      <td>NaN</td>\n",
              "      <td>2,156,624,900</td>\n",
              "      <td>796</td>\n",
              "      <td>Generation X</td>\n",
              "    </tr>\n",
              "    <tr>\n",
              "      <th>3</th>\n",
              "      <td>Albania</td>\n",
              "      <td>1987</td>\n",
              "      <td>male</td>\n",
              "      <td>75+ years</td>\n",
              "      <td>1</td>\n",
              "      <td>21800</td>\n",
              "      <td>4.59</td>\n",
              "      <td>Albania1987</td>\n",
              "      <td>NaN</td>\n",
              "      <td>2,156,624,900</td>\n",
              "      <td>796</td>\n",
              "      <td>G.I. Generation</td>\n",
              "    </tr>\n",
              "    <tr>\n",
              "      <th>4</th>\n",
              "      <td>Albania</td>\n",
              "      <td>1987</td>\n",
              "      <td>male</td>\n",
              "      <td>25-34 years</td>\n",
              "      <td>9</td>\n",
              "      <td>274300</td>\n",
              "      <td>3.28</td>\n",
              "      <td>Albania1987</td>\n",
              "      <td>NaN</td>\n",
              "      <td>2,156,624,900</td>\n",
              "      <td>796</td>\n",
              "      <td>Boomers</td>\n",
              "    </tr>\n",
              "  </tbody>\n",
              "</table>\n",
              "</div>"
            ],
            "text/plain": [
              "   country  year  ... gdp_per_capita ($)       generation\n",
              "0  Albania  1987  ...                796     Generation X\n",
              "1  Albania  1987  ...                796           Silent\n",
              "2  Albania  1987  ...                796     Generation X\n",
              "3  Albania  1987  ...                796  G.I. Generation\n",
              "4  Albania  1987  ...                796          Boomers\n",
              "\n",
              "[5 rows x 12 columns]"
            ]
          },
          "metadata": {
            "tags": []
          },
          "execution_count": 4
        }
      ]
    },
    {
      "cell_type": "markdown",
      "metadata": {
        "id": "sPGB2PA89wd4"
      },
      "source": [
        "Выведем последние 5 строк таблицы"
      ]
    },
    {
      "cell_type": "code",
      "metadata": {
        "id": "ynVZ_hdx9nAf",
        "colab": {
          "base_uri": "https://localhost:8080/",
          "height": 204
        },
        "outputId": "6056314c-c6a0-4bf5-ccdc-3d58db7dd819"
      },
      "source": [
        "data.tail()"
      ],
      "execution_count": 5,
      "outputs": [
        {
          "output_type": "execute_result",
          "data": {
            "text/html": [
              "<div>\n",
              "<style scoped>\n",
              "    .dataframe tbody tr th:only-of-type {\n",
              "        vertical-align: middle;\n",
              "    }\n",
              "\n",
              "    .dataframe tbody tr th {\n",
              "        vertical-align: top;\n",
              "    }\n",
              "\n",
              "    .dataframe thead th {\n",
              "        text-align: right;\n",
              "    }\n",
              "</style>\n",
              "<table border=\"1\" class=\"dataframe\">\n",
              "  <thead>\n",
              "    <tr style=\"text-align: right;\">\n",
              "      <th></th>\n",
              "      <th>country</th>\n",
              "      <th>year</th>\n",
              "      <th>sex</th>\n",
              "      <th>age</th>\n",
              "      <th>suicides_no</th>\n",
              "      <th>population</th>\n",
              "      <th>suicides/100k pop</th>\n",
              "      <th>country-year</th>\n",
              "      <th>HDI for year</th>\n",
              "      <th>gdp_for_year ($)</th>\n",
              "      <th>gdp_per_capita ($)</th>\n",
              "      <th>generation</th>\n",
              "    </tr>\n",
              "  </thead>\n",
              "  <tbody>\n",
              "    <tr>\n",
              "      <th>27815</th>\n",
              "      <td>Uzbekistan</td>\n",
              "      <td>2014</td>\n",
              "      <td>female</td>\n",
              "      <td>35-54 years</td>\n",
              "      <td>107</td>\n",
              "      <td>3620833</td>\n",
              "      <td>2.96</td>\n",
              "      <td>Uzbekistan2014</td>\n",
              "      <td>0.675</td>\n",
              "      <td>63,067,077,179</td>\n",
              "      <td>2309</td>\n",
              "      <td>Generation X</td>\n",
              "    </tr>\n",
              "    <tr>\n",
              "      <th>27816</th>\n",
              "      <td>Uzbekistan</td>\n",
              "      <td>2014</td>\n",
              "      <td>female</td>\n",
              "      <td>75+ years</td>\n",
              "      <td>9</td>\n",
              "      <td>348465</td>\n",
              "      <td>2.58</td>\n",
              "      <td>Uzbekistan2014</td>\n",
              "      <td>0.675</td>\n",
              "      <td>63,067,077,179</td>\n",
              "      <td>2309</td>\n",
              "      <td>Silent</td>\n",
              "    </tr>\n",
              "    <tr>\n",
              "      <th>27817</th>\n",
              "      <td>Uzbekistan</td>\n",
              "      <td>2014</td>\n",
              "      <td>male</td>\n",
              "      <td>5-14 years</td>\n",
              "      <td>60</td>\n",
              "      <td>2762158</td>\n",
              "      <td>2.17</td>\n",
              "      <td>Uzbekistan2014</td>\n",
              "      <td>0.675</td>\n",
              "      <td>63,067,077,179</td>\n",
              "      <td>2309</td>\n",
              "      <td>Generation Z</td>\n",
              "    </tr>\n",
              "    <tr>\n",
              "      <th>27818</th>\n",
              "      <td>Uzbekistan</td>\n",
              "      <td>2014</td>\n",
              "      <td>female</td>\n",
              "      <td>5-14 years</td>\n",
              "      <td>44</td>\n",
              "      <td>2631600</td>\n",
              "      <td>1.67</td>\n",
              "      <td>Uzbekistan2014</td>\n",
              "      <td>0.675</td>\n",
              "      <td>63,067,077,179</td>\n",
              "      <td>2309</td>\n",
              "      <td>Generation Z</td>\n",
              "    </tr>\n",
              "    <tr>\n",
              "      <th>27819</th>\n",
              "      <td>Uzbekistan</td>\n",
              "      <td>2014</td>\n",
              "      <td>female</td>\n",
              "      <td>55-74 years</td>\n",
              "      <td>21</td>\n",
              "      <td>1438935</td>\n",
              "      <td>1.46</td>\n",
              "      <td>Uzbekistan2014</td>\n",
              "      <td>0.675</td>\n",
              "      <td>63,067,077,179</td>\n",
              "      <td>2309</td>\n",
              "      <td>Boomers</td>\n",
              "    </tr>\n",
              "  </tbody>\n",
              "</table>\n",
              "</div>"
            ],
            "text/plain": [
              "          country  year  ... gdp_per_capita ($)    generation\n",
              "27815  Uzbekistan  2014  ...               2309  Generation X\n",
              "27816  Uzbekistan  2014  ...               2309        Silent\n",
              "27817  Uzbekistan  2014  ...               2309  Generation Z\n",
              "27818  Uzbekistan  2014  ...               2309  Generation Z\n",
              "27819  Uzbekistan  2014  ...               2309       Boomers\n",
              "\n",
              "[5 rows x 12 columns]"
            ]
          },
          "metadata": {
            "tags": []
          },
          "execution_count": 5
        }
      ]
    },
    {
      "cell_type": "markdown",
      "metadata": {
        "id": "S1khOZEM-KXx"
      },
      "source": [
        "Выведем имена признаков(столбцов)"
      ]
    },
    {
      "cell_type": "code",
      "metadata": {
        "id": "POHaL-L_-OCt",
        "colab": {
          "base_uri": "https://localhost:8080/"
        },
        "outputId": "4bab4994-e2c3-401d-863d-357951076a5f"
      },
      "source": [
        "data.columns"
      ],
      "execution_count": 6,
      "outputs": [
        {
          "output_type": "execute_result",
          "data": {
            "text/plain": [
              "Index(['country', 'year', 'sex', 'age', 'suicides_no', 'population',\n",
              "       'suicides/100k pop', 'country-year', 'HDI for year',\n",
              "       ' gdp_for_year ($) ', 'gdp_per_capita ($)', 'generation'],\n",
              "      dtype='object')"
            ]
          },
          "metadata": {
            "tags": []
          },
          "execution_count": 6
        }
      ]
    },
    {
      "cell_type": "markdown",
      "metadata": {
        "id": "zauSLERx9_qr"
      },
      "source": [
        "Каждый признак имеет своё имя:\n",
        "- `country` - страна\n",
        "- `year` - год\n",
        "- `sex` - пол возратсной группы\n",
        "- `age` - возрастная группа\n",
        "- `suicides_no` - количество самоубийств группы\n",
        "- `population` - количество населения данной группы\n",
        "- `suicides/100k pop` - количество самоубийств на 100 тысяч человек\n",
        "- `country-year` - год и страна\n",
        "- `HDI for year` - индекс человеческого развития\n",
        "- ` gdp_for_year ($) ` - ВВП \n",
        "- `gdp_per_capita ($)` - ВВП на душу населения\n",
        "- `generation` - поколение\n",
        "\n",
        "\n",
        "Признаки `country`, `sex`, `country-year`, `age`,`generation` - категориальные\n",
        "\n",
        "Признаки `year`, `suicides_no`, `population`, `suicides/100k pop`, `HDI for year`, ` gdp_for_year ($) `, `gdp_per_capita ($)` - числовые"
      ]
    },
    {
      "cell_type": "code",
      "metadata": {
        "id": "_mXWYlZS9zM_",
        "colab": {
          "base_uri": "https://localhost:8080/"
        },
        "outputId": "076b6405-00b7-479f-aa06-ca5e287ffb0f"
      },
      "source": [
        "data.dtypes"
      ],
      "execution_count": 7,
      "outputs": [
        {
          "output_type": "execute_result",
          "data": {
            "text/plain": [
              "country                object\n",
              "year                    int64\n",
              "sex                    object\n",
              "age                    object\n",
              "suicides_no             int64\n",
              "population              int64\n",
              "suicides/100k pop     float64\n",
              "country-year           object\n",
              "HDI for year          float64\n",
              " gdp_for_year ($)      object\n",
              "gdp_per_capita ($)      int64\n",
              "generation             object\n",
              "dtype: object"
            ]
          },
          "metadata": {
            "tags": []
          },
          "execution_count": 7
        }
      ]
    },
    {
      "cell_type": "markdown",
      "metadata": {
        "id": "ASAOIID6RjNd"
      },
      "source": [
        "Все категориалные признаки, имеющие тип `'Object'` переведём в спеиальный тип, предназначенный для хранения категориальных значений"
      ]
    },
    {
      "cell_type": "code",
      "metadata": {
        "id": "lukpjGWKCbLj"
      },
      "source": [
        "for item in ['country', 'age','sex', 'country-year', 'generation']:\n",
        "  data[item] = data[item].astype('category');"
      ],
      "execution_count": 8,
      "outputs": []
    },
    {
      "cell_type": "markdown",
      "metadata": {
        "id": "Ut2MheskSvmI"
      },
      "source": [
        "Признак ` gdp_for_year ($) ` числовой, но имеет тип `'Object'`. Так же в записи присутствуют запятые. Поэтому для признака ` gdp_for_year ($) ` уберём запятые и заменим тип на `float`"
      ]
    },
    {
      "cell_type": "code",
      "metadata": {
        "id": "AwCfj--7SPjI"
      },
      "source": [
        "data[' gdp_for_year ($) ']=data[' gdp_for_year ($) '].str.replace(',','').astype(float)"
      ],
      "execution_count": 9,
      "outputs": []
    },
    {
      "cell_type": "code",
      "metadata": {
        "id": "4bgadrpfTfpu",
        "colab": {
          "base_uri": "https://localhost:8080/"
        },
        "outputId": "a2c29caf-3173-444e-ee04-8fa4a7fdbda6"
      },
      "source": [
        "data[' gdp_for_year ($) ']"
      ],
      "execution_count": 10,
      "outputs": [
        {
          "output_type": "execute_result",
          "data": {
            "text/plain": [
              "0        2.156625e+09\n",
              "1        2.156625e+09\n",
              "2        2.156625e+09\n",
              "3        2.156625e+09\n",
              "4        2.156625e+09\n",
              "             ...     \n",
              "27815    6.306708e+10\n",
              "27816    6.306708e+10\n",
              "27817    6.306708e+10\n",
              "27818    6.306708e+10\n",
              "27819    6.306708e+10\n",
              "Name:  gdp_for_year ($) , Length: 27820, dtype: float64"
            ]
          },
          "metadata": {
            "tags": []
          },
          "execution_count": 10
        }
      ]
    },
    {
      "cell_type": "code",
      "metadata": {
        "id": "YdtH-JfVThWc",
        "colab": {
          "base_uri": "https://localhost:8080/"
        },
        "outputId": "cacd198a-a76e-4324-c1b2-29b9014164c6"
      },
      "source": [
        "data.dtypes"
      ],
      "execution_count": 11,
      "outputs": [
        {
          "output_type": "execute_result",
          "data": {
            "text/plain": [
              "country               category\n",
              "year                     int64\n",
              "sex                   category\n",
              "age                   category\n",
              "suicides_no              int64\n",
              "population               int64\n",
              "suicides/100k pop      float64\n",
              "country-year          category\n",
              "HDI for year           float64\n",
              " gdp_for_year ($)      float64\n",
              "gdp_per_capita ($)       int64\n",
              "generation            category\n",
              "dtype: object"
            ]
          },
          "metadata": {
            "tags": []
          },
          "execution_count": 11
        }
      ]
    },
    {
      "cell_type": "markdown",
      "metadata": {
        "id": "1NDBWJuDYvl_"
      },
      "source": [
        "#**2. Боремся с выбросами**"
      ]
    },
    {
      "cell_type": "markdown",
      "metadata": {
        "id": "c80ikQu6ZZ9v"
      },
      "source": [
        "Если взять статистику, то наибольшее количество суицидов на 100 тысяч населения будет в бедных странах, либо в странах периферийного капитализма, т.е. тоже в не очень богатых. Критерием, выявляющим такие страны является ВВП на душу населения. Построим диаграмму рассеивания для признаков `gdp_per_capita ($)` и `suicides_no`"
      ]
    },
    {
      "cell_type": "code",
      "metadata": {
        "id": "QxeLXr5qU3UH",
        "colab": {
          "base_uri": "https://localhost:8080/",
          "height": 265
        },
        "outputId": "a50e0da2-bf51-4cf5-e036-2d54258b5a66"
      },
      "source": [
        "plt.scatter(x='gdp_per_capita ($)', y='suicides_no', data=data)\n",
        "pass"
      ],
      "execution_count": 12,
      "outputs": [
        {
          "output_type": "display_data",
          "data": {
            "image/png": "[encoded data removed]",
            "text/plain": [
              "<Figure size 432x288 with 1 Axes>"
            ]
          },
          "metadata": {
            "tags": [],
            "needs_background": "light"
          }
        }
      ]
    },
    {
      "cell_type": "markdown",
      "metadata": {
        "id": "YJI1yKXccNo1"
      },
      "source": [
        "Из диаграммы видно, что в странах с большим подушевым ВВП самоубийств очень мало. В странах с маленьким ВВП на душу населения ситуация обратная. 20 тысяч самоубийств это довольно много, но не нереально, во времена войн и различных трагических событий(например государственного террора направленного против своих граждан), цифра достижима. Но всё же, наряду с очень низкими показателями самоубийств в странах с высоким уровнем подушевого ВВП, будем считать их за выбросы."
      ]
    },
    {
      "cell_type": "markdown",
      "metadata": {
        "id": "MymmMMJJmax4"
      },
      "source": [
        "Для обнаружения выбросов найдём квантили для признаков `gdp_per_capita ($)` и `suicides_no`"
      ]
    },
    {
      "cell_type": "code",
      "metadata": {
        "id": "Kt43REgMY_Hn",
        "colab": {
          "base_uri": "https://localhost:8080/"
        },
        "outputId": "ceb8b938-58ac-4e33-8aba-28370e6fc610"
      },
      "source": [
        "data['suicides_no'].quantile([0.005,.01,.05,.1,.5,.9,.95,.99,.995])"
      ],
      "execution_count": 13,
      "outputs": [
        {
          "output_type": "execute_result",
          "data": {
            "text/plain": [
              "0.005       0.000\n",
              "0.010       0.000\n",
              "0.050       0.000\n",
              "0.100       0.000\n",
              "0.500      25.000\n",
              "0.900     496.000\n",
              "0.950    1050.050\n",
              "0.990    3993.670\n",
              "0.995    6325.115\n",
              "Name: suicides_no, dtype: float64"
            ]
          },
          "metadata": {
            "tags": []
          },
          "execution_count": 13
        }
      ]
    },
    {
      "cell_type": "code",
      "metadata": {
        "id": "V7G-0qEEmr_g",
        "colab": {
          "base_uri": "https://localhost:8080/"
        },
        "outputId": "b5d598f6-af22-420a-e1af-704542ac0bab"
      },
      "source": [
        "data['gdp_per_capita ($)'].quantile([0.005,.01,.05,.1,.5,.9,.95,.99,.995])"
      ],
      "execution_count": 14,
      "outputs": [
        {
          "output_type": "execute_result",
          "data": {
            "text/plain": [
              "0.005       426.0\n",
              "0.010       476.0\n",
              "0.050       935.0\n",
              "0.100      1524.0\n",
              "0.500      9372.0\n",
              "0.900     43487.0\n",
              "0.950     54294.0\n",
              "0.990     89634.0\n",
              "0.995    107430.0\n",
              "Name: gdp_per_capita ($), dtype: float64"
            ]
          },
          "metadata": {
            "tags": []
          },
          "execution_count": 14
        }
      ]
    },
    {
      "cell_type": "markdown",
      "metadata": {
        "id": "v54Mwhi0m2Jo"
      },
      "source": [
        "Удалим все строки таблицы, в которых `gdp_per_capita ($)` или `suicides_no` выходят за пределы квантилей $0.005$, $0.995$"
      ]
    },
    {
      "cell_type": "code",
      "metadata": {
        "id": "eKWLJFnumuz6",
        "colab": {
          "base_uri": "https://localhost:8080/"
        },
        "outputId": "95b7233b-fb7c-4cfe-889c-a823c38dd0e1"
      },
      "source": [
        "rows_to_drop = data[\n",
        "    (data['gdp_per_capita ($)'] < data['gdp_per_capita ($)'].quantile(0.005)) | (data['gdp_per_capita ($)'] > data['gdp_per_capita ($)'].quantile(0.995)) | \n",
        "    (data['suicides_no']  < data['suicides_no' ].quantile(0.005)) | (data['suicides_no']  > data['suicides_no' ].quantile(0.995))].index\n",
        "data = data.drop(rows_to_drop)\n",
        "data.shape"
      ],
      "execution_count": 15,
      "outputs": [
        {
          "output_type": "execute_result",
          "data": {
            "text/plain": [
              "(27416, 12)"
            ]
          },
          "metadata": {
            "tags": []
          },
          "execution_count": 15
        }
      ]
    },
    {
      "cell_type": "code",
      "metadata": {
        "id": "iLaCErvVnQzP",
        "colab": {
          "base_uri": "https://localhost:8080/"
        },
        "outputId": "3489360e-093e-405f-a59c-41769aa5e61d"
      },
      "source": [
        "rows_to_drop"
      ],
      "execution_count": 16,
      "outputs": [
        {
          "output_type": "execute_result",
          "data": {
            "text/plain": [
              "Int64Index([   36,    37,    38,    39,    40,    41,    42,    43,    44,\n",
              "               45,\n",
              "            ...\n",
              "            27161, 27162, 27173, 27174, 27185, 27186, 27197, 27198, 27209,\n",
              "            27210],\n",
              "           dtype='int64', length=404)"
            ]
          },
          "metadata": {
            "tags": []
          },
          "execution_count": 16
        }
      ]
    },
    {
      "cell_type": "markdown",
      "metadata": {
        "id": "aS_3Y5QLnhxb"
      },
      "source": [
        "#**3. Визуализация и описательная статистика**"
      ]
    },
    {
      "cell_type": "code",
      "metadata": {
        "id": "MdINjHrknduf",
        "colab": {
          "base_uri": "https://localhost:8080/",
          "height": 297
        },
        "outputId": "cc4d1925-664f-40df-d0ea-b5ea03ee1b22"
      },
      "source": [
        "data.describe()"
      ],
      "execution_count": 17,
      "outputs": [
        {
          "output_type": "execute_result",
          "data": {
            "text/html": [
              "<div>\n",
              "<style scoped>\n",
              "    .dataframe tbody tr th:only-of-type {\n",
              "        vertical-align: middle;\n",
              "    }\n",
              "\n",
              "    .dataframe tbody tr th {\n",
              "        vertical-align: top;\n",
              "    }\n",
              "\n",
              "    .dataframe thead th {\n",
              "        text-align: right;\n",
              "    }\n",
              "</style>\n",
              "<table border=\"1\" class=\"dataframe\">\n",
              "  <thead>\n",
              "    <tr style=\"text-align: right;\">\n",
              "      <th></th>\n",
              "      <th>year</th>\n",
              "      <th>suicides_no</th>\n",
              "      <th>population</th>\n",
              "      <th>suicides/100k pop</th>\n",
              "      <th>HDI for year</th>\n",
              "      <th>gdp_for_year ($)</th>\n",
              "      <th>gdp_per_capita ($)</th>\n",
              "    </tr>\n",
              "  </thead>\n",
              "  <tbody>\n",
              "    <tr>\n",
              "      <th>count</th>\n",
              "      <td>27416.000000</td>\n",
              "      <td>27416.000000</td>\n",
              "      <td>2.741600e+04</td>\n",
              "      <td>27416.000000</td>\n",
              "      <td>8231.000000</td>\n",
              "      <td>2.741600e+04</td>\n",
              "      <td>27416.000000</td>\n",
              "    </tr>\n",
              "    <tr>\n",
              "      <th>mean</th>\n",
              "      <td>2001.227896</td>\n",
              "      <td>196.169573</td>\n",
              "      <td>1.763770e+06</td>\n",
              "      <td>12.611183</td>\n",
              "      <td>0.775542</td>\n",
              "      <td>4.278492e+11</td>\n",
              "      <td>16442.348665</td>\n",
              "    </tr>\n",
              "    <tr>\n",
              "      <th>std</th>\n",
              "      <td>8.474799</td>\n",
              "      <td>540.752165</td>\n",
              "      <td>3.618902e+06</td>\n",
              "      <td>18.718327</td>\n",
              "      <td>0.092353</td>\n",
              "      <td>1.383653e+12</td>\n",
              "      <td>17661.509817</td>\n",
              "    </tr>\n",
              "    <tr>\n",
              "      <th>min</th>\n",
              "      <td>1985.000000</td>\n",
              "      <td>0.000000</td>\n",
              "      <td>2.780000e+02</td>\n",
              "      <td>0.000000</td>\n",
              "      <td>0.483000</td>\n",
              "      <td>4.691962e+07</td>\n",
              "      <td>426.000000</td>\n",
              "    </tr>\n",
              "    <tr>\n",
              "      <th>25%</th>\n",
              "      <td>1995.000000</td>\n",
              "      <td>3.000000</td>\n",
              "      <td>9.803450e+04</td>\n",
              "      <td>0.900000</td>\n",
              "      <td>0.713000</td>\n",
              "      <td>9.024567e+09</td>\n",
              "      <td>3492.000000</td>\n",
              "    </tr>\n",
              "    <tr>\n",
              "      <th>50%</th>\n",
              "      <td>2002.000000</td>\n",
              "      <td>25.000000</td>\n",
              "      <td>4.314125e+05</td>\n",
              "      <td>5.910000</td>\n",
              "      <td>0.778000</td>\n",
              "      <td>4.755467e+10</td>\n",
              "      <td>9356.000000</td>\n",
              "    </tr>\n",
              "    <tr>\n",
              "      <th>75%</th>\n",
              "      <td>2008.000000</td>\n",
              "      <td>130.000000</td>\n",
              "      <td>1.472438e+06</td>\n",
              "      <td>16.330000</td>\n",
              "      <td>0.851000</td>\n",
              "      <td>2.581543e+11</td>\n",
              "      <td>24654.000000</td>\n",
              "    </tr>\n",
              "    <tr>\n",
              "      <th>max</th>\n",
              "      <td>2016.000000</td>\n",
              "      <td>6250.000000</td>\n",
              "      <td>4.380521e+07</td>\n",
              "      <td>224.970000</td>\n",
              "      <td>0.944000</td>\n",
              "      <td>1.812071e+13</td>\n",
              "      <td>107430.000000</td>\n",
              "    </tr>\n",
              "  </tbody>\n",
              "</table>\n",
              "</div>"
            ],
            "text/plain": [
              "               year   suicides_no  ...   gdp_for_year ($)   gdp_per_capita ($)\n",
              "count  27416.000000  27416.000000  ...        2.741600e+04        27416.000000\n",
              "mean    2001.227896    196.169573  ...        4.278492e+11        16442.348665\n",
              "std        8.474799    540.752165  ...        1.383653e+12        17661.509817\n",
              "min     1985.000000      0.000000  ...        4.691962e+07          426.000000\n",
              "25%     1995.000000      3.000000  ...        9.024567e+09         3492.000000\n",
              "50%     2002.000000     25.000000  ...        4.755467e+10         9356.000000\n",
              "75%     2008.000000    130.000000  ...        2.581543e+11        24654.000000\n",
              "max     2016.000000   6250.000000  ...        1.812071e+13       107430.000000\n",
              "\n",
              "[8 rows x 7 columns]"
            ]
          },
          "metadata": {
            "tags": []
          },
          "execution_count": 17
        }
      ]
    },
    {
      "cell_type": "markdown",
      "metadata": {
        "id": "4QHm6NdnoJmx"
      },
      "source": [
        "Для каждого количественного признака приведены средние значения, стандартное отклонение, минимальное и макимальное значения, медиана и значения квартилей.\n",
        "\n",
        "По умолчанию этот метод дает информацию только о количественных признаках. Получил информацию о категориальных:"
      ]
    },
    {
      "cell_type": "code",
      "metadata": {
        "id": "V2d0qgKonvQ-",
        "colab": {
          "base_uri": "https://localhost:8080/",
          "height": 173
        },
        "outputId": "d2bd3172-6132-472d-b812-24335a87e78d"
      },
      "source": [
        "data.describe(include=['category'])"
      ],
      "execution_count": 18,
      "outputs": [
        {
          "output_type": "execute_result",
          "data": {
            "text/html": [
              "<div>\n",
              "<style scoped>\n",
              "    .dataframe tbody tr th:only-of-type {\n",
              "        vertical-align: middle;\n",
              "    }\n",
              "\n",
              "    .dataframe tbody tr th {\n",
              "        vertical-align: top;\n",
              "    }\n",
              "\n",
              "    .dataframe thead th {\n",
              "        text-align: right;\n",
              "    }\n",
              "</style>\n",
              "<table border=\"1\" class=\"dataframe\">\n",
              "  <thead>\n",
              "    <tr style=\"text-align: right;\">\n",
              "      <th></th>\n",
              "      <th>country</th>\n",
              "      <th>sex</th>\n",
              "      <th>age</th>\n",
              "      <th>country-year</th>\n",
              "      <th>generation</th>\n",
              "    </tr>\n",
              "  </thead>\n",
              "  <tbody>\n",
              "    <tr>\n",
              "      <th>count</th>\n",
              "      <td>27416</td>\n",
              "      <td>27416</td>\n",
              "      <td>27416</td>\n",
              "      <td>27416</td>\n",
              "      <td>27416</td>\n",
              "    </tr>\n",
              "    <tr>\n",
              "      <th>unique</th>\n",
              "      <td>101</td>\n",
              "      <td>2</td>\n",
              "      <td>6</td>\n",
              "      <td>2299</td>\n",
              "      <td>6</td>\n",
              "    </tr>\n",
              "    <tr>\n",
              "      <th>top</th>\n",
              "      <td>Mauritius</td>\n",
              "      <td>female</td>\n",
              "      <td>75+ years</td>\n",
              "      <td>Uzbekistan2014</td>\n",
              "      <td>Generation X</td>\n",
              "    </tr>\n",
              "    <tr>\n",
              "      <th>freq</th>\n",
              "      <td>382</td>\n",
              "      <td>13778</td>\n",
              "      <td>4598</td>\n",
              "      <td>12</td>\n",
              "      <td>6321</td>\n",
              "    </tr>\n",
              "  </tbody>\n",
              "</table>\n",
              "</div>"
            ],
            "text/plain": [
              "          country     sex        age    country-year    generation\n",
              "count       27416   27416      27416           27416         27416\n",
              "unique        101       2          6            2299             6\n",
              "top     Mauritius  female  75+ years  Uzbekistan2014  Generation X\n",
              "freq          382   13778       4598              12          6321"
            ]
          },
          "metadata": {
            "tags": []
          },
          "execution_count": 18
        }
      ]
    },
    {
      "cell_type": "markdown",
      "metadata": {
        "id": "Op-I3gyky1zd"
      },
      "source": [
        "Количество самоубийств по возрастным группам"
      ]
    },
    {
      "cell_type": "code",
      "metadata": {
        "id": "rg7hfjk_oL53",
        "colab": {
          "base_uri": "https://localhost:8080/",
          "height": 265
        },
        "outputId": "7c593d20-7d5b-45a7-8c63-9beec54d1a02"
      },
      "source": [
        "plt.scatter(data['age'], data['suicides_no'])\n",
        "pass"
      ],
      "execution_count": 19,
      "outputs": [
        {
          "output_type": "display_data",
          "data": {
            "image/png": "[encoded data removed]",
            "text/plain": [
              "<Figure size 432x288 with 1 Axes>"
            ]
          },
          "metadata": {
            "tags": [],
            "needs_background": "light"
          }
        }
      ]
    },
    {
      "cell_type": "code",
      "metadata": {
        "id": "jbQfj0x4y6WL",
        "colab": {
          "base_uri": "https://localhost:8080/",
          "height": 265
        },
        "outputId": "c95653c0-9d5b-4440-9441-539bda06d87c"
      },
      "source": [
        "plt.scatter(data['age'], data['suicides_no'], alpha=0.01)\n",
        "pass"
      ],
      "execution_count": 20,
      "outputs": [
        {
          "output_type": "display_data",
          "data": {
            "image/png": "[encoded data removed]",
            "text/plain": [
              "<Figure size 432x288 with 1 Axes>"
            ]
          },
          "metadata": {
            "tags": [],
            "needs_background": "light"
          }
        }
      ]
    },
    {
      "cell_type": "code",
      "metadata": {
        "id": "ti0Z926ozC3n",
        "colab": {
          "base_uri": "https://localhost:8080/",
          "height": 279
        },
        "outputId": "6f8e75ef-4848-4450-e817-a9e761456198"
      },
      "source": [
        "np.random.seed(42)\n",
        "random_subset = np.random.choice(np.arange(data.shape[0]), size=1000, replace=False)\n",
        "plt.scatter(data.iloc[random_subset]['age'], data.iloc[random_subset]['suicides_no'], alpha=0.4)\n",
        "plt.xlabel('age')\n",
        "plt.ylabel('suicides_no')\n",
        "pass"
      ],
      "execution_count": 21,
      "outputs": [
        {
          "output_type": "display_data",
          "data": {
            "image/png": "[encoded data removed]",
            "text/plain": [
              "<Figure size 432x288 with 1 Axes>"
            ]
          },
          "metadata": {
            "tags": [],
            "needs_background": "light"
          }
        }
      ]
    },
    {
      "cell_type": "markdown",
      "metadata": {
        "id": "K4_iwh6_zPvA"
      },
      "source": [
        "Количество суицидов относительно абсолютного ВВП"
      ]
    },
    {
      "cell_type": "code",
      "metadata": {
        "id": "e1MbphKfzKOX",
        "colab": {
          "base_uri": "https://localhost:8080/",
          "height": 280
        },
        "outputId": "57db0839-3998-4c29-ebc5-f4a0b79b5f01"
      },
      "source": [
        "plt.scatter(data.iloc[random_subset][' gdp_for_year ($) '], data.iloc[random_subset]['suicides_no'], alpha = .3)\n",
        "plt.xlabel('gdp_for_year ($)')\n",
        "plt.ylabel('suicide_no')\n",
        "pass"
      ],
      "execution_count": 22,
      "outputs": [
        {
          "output_type": "display_data",
          "data": {
            "image/png": "[encoded data removed]",
            "text/plain": [
              "<Figure size 432x288 with 1 Axes>"
            ]
          },
          "metadata": {
            "tags": [],
            "needs_background": "light"
          }
        }
      ]
    },
    {
      "cell_type": "markdown",
      "metadata": {
        "id": "GrpUg0ERzhqr"
      },
      "source": [
        "Количество суициов относительно ВВП на душу населения"
      ]
    },
    {
      "cell_type": "code",
      "metadata": {
        "id": "GlJC--XgzSgZ",
        "colab": {
          "base_uri": "https://localhost:8080/",
          "height": 280
        },
        "outputId": "46c84af8-76e6-4e96-90c9-a38a51a643c5"
      },
      "source": [
        "plt.scatter(data.iloc[random_subset]['gdp_per_capita ($)'], data.iloc[random_subset]['suicides_no'], alpha = .3)\n",
        "plt.xlabel('gdp_per_capita ($)')\n",
        "plt.ylabel('suicide_no')\n",
        "pass"
      ],
      "execution_count": 23,
      "outputs": [
        {
          "output_type": "display_data",
          "data": {
            "image/png": "[encoded data removed]",
            "text/plain": [
              "<Figure size 432x288 with 1 Axes>"
            ]
          },
          "metadata": {
            "tags": [],
            "needs_background": "light"
          }
        }
      ]
    },
    {
      "cell_type": "code",
      "metadata": {
        "id": "NlyySSUKzme2",
        "colab": {
          "base_uri": "https://localhost:8080/",
          "height": 441
        },
        "outputId": "1125c9d4-79e2-484b-9b2d-0ca3645d1813"
      },
      "source": [
        "sns.jointplot(x='gdp_per_capita ($)', y='suicides_no', alpha=.05, data=data)\n",
        "pass"
      ],
      "execution_count": 24,
      "outputs": [
        {
          "output_type": "display_data",
          "data": {
            "image/png": "[encoded data removed]",
            "text/plain": [
              "<Figure size 432x432 with 3 Axes>"
            ]
          },
          "metadata": {
            "tags": [],
            "needs_background": "light"
          }
        }
      ]
    },
    {
      "cell_type": "code",
      "metadata": {
        "id": "WsfWOQQLzyBN",
        "colab": {
          "base_uri": "https://localhost:8080/",
          "height": 498
        },
        "outputId": "2daf6c42-40f2-47cb-f316-90b6252888d2"
      },
      "source": [
        "plt.figure(figsize = (10, 8))\n",
        "sns.scatterplot(x='gdp_per_capita ($)', y='suicides_no', size='age', hue='sex', data=data.iloc[random_subset], alpha=0.7)\n",
        "pass"
      ],
      "execution_count": 25,
      "outputs": [
        {
          "output_type": "display_data",
          "data": {
            "image/png": "[encoded data removed]",
            "text/plain": [
              "<Figure size 720x576 with 1 Axes>"
            ]
          },
          "metadata": {
            "tags": [],
            "needs_background": "light"
          }
        }
      ]
    },
    {
      "cell_type": "code",
      "metadata": {
        "id": "Acj6Jyyqz5it",
        "colab": {
          "base_uri": "https://localhost:8080/",
          "height": 497
        },
        "outputId": "3af64a0a-ba09-475c-f9cd-ddf1c386d4af"
      },
      "source": [
        "plt.figure(figsize = (10, 8))\n",
        "sns.scatterplot(x='age', y='gdp_per_capita ($)', size='suicides_no', hue='sex', data=data.iloc[random_subset], alpha=0.7)\n",
        "pass"
      ],
      "execution_count": 26,
      "outputs": [
        {
          "output_type": "display_data",
          "data": {
            "image/png": "[encoded data removed]",
            "text/plain": [
              "<Figure size 720x576 with 1 Axes>"
            ]
          },
          "metadata": {
            "tags": [],
            "needs_background": "light"
          }
        }
      ]
    },
    {
      "cell_type": "markdown",
      "metadata": {
        "id": "aghEw1x80KF2"
      },
      "source": [
        "Построим все возможные диаграммы рассеивания для каждой пары переменных"
      ]
    },
    {
      "cell_type": "code",
      "metadata": {
        "id": "IaAKv6HO0QFL",
        "colab": {
          "base_uri": "https://localhost:8080/",
          "height": 626
        },
        "outputId": "fc9b1fec-a35a-4d33-c4c4-147efc45cbc2"
      },
      "source": [
        "from pandas.plotting import scatter_matrix\n",
        "scatter_matrix(data, alpha = .01, figsize = (10, 10))\n",
        "pass"
      ],
      "execution_count": 27,
      "outputs": [
        {
          "output_type": "display_data",
          "data": {
            "image/png": "[encoded data removed]",
            "text/plain": [
              "<Figure size 720x720 with 49 Axes>"
            ]
          },
          "metadata": {
            "tags": [],
            "needs_background": "light"
          }
        }
      ]
    },
    {
      "cell_type": "markdown",
      "metadata": {
        "id": "N5TsmLIKebNl"
      },
      "source": [
        "Ящик с усами"
      ]
    },
    {
      "cell_type": "code",
      "metadata": {
        "id": "ypOLd0b42oR5",
        "colab": {
          "base_uri": "https://localhost:8080/",
          "height": 279
        },
        "outputId": "8ec004de-9669-4881-ce96-67da60cf58b7"
      },
      "source": [
        "sns.boxplot(x=\"generation\", y=\"suicides/100k pop\", data=data)\n",
        "pass"
      ],
      "execution_count": 28,
      "outputs": [
        {
          "output_type": "display_data",
          "data": {
            "image/png": "[encoded data removed]",
            "text/plain": [
              "<Figure size 432x288 with 1 Axes>"
            ]
          },
          "metadata": {
            "tags": [],
            "needs_background": "light"
          }
        }
      ]
    },
    {
      "cell_type": "markdown",
      "metadata": {
        "id": "keKJMHXJeOmn"
      },
      "source": [
        "Скрипичные графики"
      ]
    },
    {
      "cell_type": "code",
      "metadata": {
        "colab": {
          "base_uri": "https://localhost:8080/",
          "height": 279
        },
        "id": "81YH-YSBeSIZ",
        "outputId": "4ce1aebc-a4a8-4843-bfe7-0ee83c13a20d"
      },
      "source": [
        "sns.violinplot(x=\"sex\", y=\"suicides/100k pop\", data=data)\n",
        "pass"
      ],
      "execution_count": 29,
      "outputs": [
        {
          "output_type": "display_data",
          "data": {
            "image/png": "[encoded data removed]",
            "text/plain": [
              "<Figure size 432x288 with 1 Axes>"
            ]
          },
          "metadata": {
            "tags": [],
            "needs_background": "light"
          }
        }
      ]
    },
    {
      "cell_type": "markdown",
      "metadata": {
        "id": "RSFUv8MFe7aP"
      },
      "source": [
        "Корреляционная матрица"
      ]
    },
    {
      "cell_type": "code",
      "metadata": {
        "colab": {
          "base_uri": "https://localhost:8080/",
          "height": 266
        },
        "id": "LsdUnvCeek_P",
        "outputId": "1c9c524e-8a5f-48c9-ff64-3cc5049d52f6"
      },
      "source": [
        "corr_mat = data.corr()\n",
        "corr_mat"
      ],
      "execution_count": 30,
      "outputs": [
        {
          "output_type": "execute_result",
          "data": {
            "text/html": [
              "<div>\n",
              "<style scoped>\n",
              "    .dataframe tbody tr th:only-of-type {\n",
              "        vertical-align: middle;\n",
              "    }\n",
              "\n",
              "    .dataframe tbody tr th {\n",
              "        vertical-align: top;\n",
              "    }\n",
              "\n",
              "    .dataframe thead th {\n",
              "        text-align: right;\n",
              "    }\n",
              "</style>\n",
              "<table border=\"1\" class=\"dataframe\">\n",
              "  <thead>\n",
              "    <tr style=\"text-align: right;\">\n",
              "      <th></th>\n",
              "      <th>year</th>\n",
              "      <th>suicides_no</th>\n",
              "      <th>population</th>\n",
              "      <th>suicides/100k pop</th>\n",
              "      <th>HDI for year</th>\n",
              "      <th>gdp_for_year ($)</th>\n",
              "      <th>gdp_per_capita ($)</th>\n",
              "    </tr>\n",
              "  </thead>\n",
              "  <tbody>\n",
              "    <tr>\n",
              "      <th>year</th>\n",
              "      <td>1.000000</td>\n",
              "      <td>-0.008238</td>\n",
              "      <td>0.007628</td>\n",
              "      <td>-0.039071</td>\n",
              "      <td>0.357847</td>\n",
              "      <td>0.092477</td>\n",
              "      <td>0.331255</td>\n",
              "    </tr>\n",
              "    <tr>\n",
              "      <th>suicides_no</th>\n",
              "      <td>-0.008238</td>\n",
              "      <td>1.000000</td>\n",
              "      <td>0.639551</td>\n",
              "      <td>0.290962</td>\n",
              "      <td>0.152072</td>\n",
              "      <td>0.511677</td>\n",
              "      <td>0.098229</td>\n",
              "    </tr>\n",
              "    <tr>\n",
              "      <th>population</th>\n",
              "      <td>0.007628</td>\n",
              "      <td>0.639551</td>\n",
              "      <td>1.000000</td>\n",
              "      <td>-0.038770</td>\n",
              "      <td>0.090366</td>\n",
              "      <td>0.690636</td>\n",
              "      <td>0.085809</td>\n",
              "    </tr>\n",
              "    <tr>\n",
              "      <th>suicides/100k pop</th>\n",
              "      <td>-0.039071</td>\n",
              "      <td>0.290962</td>\n",
              "      <td>-0.038770</td>\n",
              "      <td>1.000000</td>\n",
              "      <td>0.074754</td>\n",
              "      <td>0.011576</td>\n",
              "      <td>0.006041</td>\n",
              "    </tr>\n",
              "    <tr>\n",
              "      <th>HDI for year</th>\n",
              "      <td>0.357847</td>\n",
              "      <td>0.152072</td>\n",
              "      <td>0.090366</td>\n",
              "      <td>0.074754</td>\n",
              "      <td>1.000000</td>\n",
              "      <td>0.308405</td>\n",
              "      <td>0.795308</td>\n",
              "    </tr>\n",
              "    <tr>\n",
              "      <th>gdp_for_year ($)</th>\n",
              "      <td>0.092477</td>\n",
              "      <td>0.511677</td>\n",
              "      <td>0.690636</td>\n",
              "      <td>0.011576</td>\n",
              "      <td>0.308405</td>\n",
              "      <td>1.000000</td>\n",
              "      <td>0.325507</td>\n",
              "    </tr>\n",
              "    <tr>\n",
              "      <th>gdp_per_capita ($)</th>\n",
              "      <td>0.331255</td>\n",
              "      <td>0.098229</td>\n",
              "      <td>0.085809</td>\n",
              "      <td>0.006041</td>\n",
              "      <td>0.795308</td>\n",
              "      <td>0.325507</td>\n",
              "      <td>1.000000</td>\n",
              "    </tr>\n",
              "  </tbody>\n",
              "</table>\n",
              "</div>"
            ],
            "text/plain": [
              "                        year  ...  gdp_per_capita ($)\n",
              "year                1.000000  ...            0.331255\n",
              "suicides_no        -0.008238  ...            0.098229\n",
              "population          0.007628  ...            0.085809\n",
              "suicides/100k pop  -0.039071  ...            0.006041\n",
              "HDI for year        0.357847  ...            0.795308\n",
              " gdp_for_year ($)   0.092477  ...            0.325507\n",
              "gdp_per_capita ($)  0.331255  ...            1.000000\n",
              "\n",
              "[7 rows x 7 columns]"
            ]
          },
          "metadata": {
            "tags": []
          },
          "execution_count": 30
        }
      ]
    },
    {
      "cell_type": "code",
      "metadata": {
        "colab": {
          "base_uri": "https://localhost:8080/",
          "height": 266
        },
        "id": "wZlPFGnUfC4S",
        "outputId": "b1193be0-e7c9-4dca-fb14-915086286dad"
      },
      "source": [
        "corr_mat > 0.5"
      ],
      "execution_count": 31,
      "outputs": [
        {
          "output_type": "execute_result",
          "data": {
            "text/html": [
              "<div>\n",
              "<style scoped>\n",
              "    .dataframe tbody tr th:only-of-type {\n",
              "        vertical-align: middle;\n",
              "    }\n",
              "\n",
              "    .dataframe tbody tr th {\n",
              "        vertical-align: top;\n",
              "    }\n",
              "\n",
              "    .dataframe thead th {\n",
              "        text-align: right;\n",
              "    }\n",
              "</style>\n",
              "<table border=\"1\" class=\"dataframe\">\n",
              "  <thead>\n",
              "    <tr style=\"text-align: right;\">\n",
              "      <th></th>\n",
              "      <th>year</th>\n",
              "      <th>suicides_no</th>\n",
              "      <th>population</th>\n",
              "      <th>suicides/100k pop</th>\n",
              "      <th>HDI for year</th>\n",
              "      <th>gdp_for_year ($)</th>\n",
              "      <th>gdp_per_capita ($)</th>\n",
              "    </tr>\n",
              "  </thead>\n",
              "  <tbody>\n",
              "    <tr>\n",
              "      <th>year</th>\n",
              "      <td>True</td>\n",
              "      <td>False</td>\n",
              "      <td>False</td>\n",
              "      <td>False</td>\n",
              "      <td>False</td>\n",
              "      <td>False</td>\n",
              "      <td>False</td>\n",
              "    </tr>\n",
              "    <tr>\n",
              "      <th>suicides_no</th>\n",
              "      <td>False</td>\n",
              "      <td>True</td>\n",
              "      <td>True</td>\n",
              "      <td>False</td>\n",
              "      <td>False</td>\n",
              "      <td>True</td>\n",
              "      <td>False</td>\n",
              "    </tr>\n",
              "    <tr>\n",
              "      <th>population</th>\n",
              "      <td>False</td>\n",
              "      <td>True</td>\n",
              "      <td>True</td>\n",
              "      <td>False</td>\n",
              "      <td>False</td>\n",
              "      <td>True</td>\n",
              "      <td>False</td>\n",
              "    </tr>\n",
              "    <tr>\n",
              "      <th>suicides/100k pop</th>\n",
              "      <td>False</td>\n",
              "      <td>False</td>\n",
              "      <td>False</td>\n",
              "      <td>True</td>\n",
              "      <td>False</td>\n",
              "      <td>False</td>\n",
              "      <td>False</td>\n",
              "    </tr>\n",
              "    <tr>\n",
              "      <th>HDI for year</th>\n",
              "      <td>False</td>\n",
              "      <td>False</td>\n",
              "      <td>False</td>\n",
              "      <td>False</td>\n",
              "      <td>True</td>\n",
              "      <td>False</td>\n",
              "      <td>True</td>\n",
              "    </tr>\n",
              "    <tr>\n",
              "      <th>gdp_for_year ($)</th>\n",
              "      <td>False</td>\n",
              "      <td>True</td>\n",
              "      <td>True</td>\n",
              "      <td>False</td>\n",
              "      <td>False</td>\n",
              "      <td>True</td>\n",
              "      <td>False</td>\n",
              "    </tr>\n",
              "    <tr>\n",
              "      <th>gdp_per_capita ($)</th>\n",
              "      <td>False</td>\n",
              "      <td>False</td>\n",
              "      <td>False</td>\n",
              "      <td>False</td>\n",
              "      <td>True</td>\n",
              "      <td>False</td>\n",
              "      <td>True</td>\n",
              "    </tr>\n",
              "  </tbody>\n",
              "</table>\n",
              "</div>"
            ],
            "text/plain": [
              "                     year  suicides_no  ...   gdp_for_year ($)   gdp_per_capita ($)\n",
              "year                 True        False  ...               False               False\n",
              "suicides_no         False         True  ...                True               False\n",
              "population          False         True  ...                True               False\n",
              "suicides/100k pop   False        False  ...               False               False\n",
              "HDI for year        False        False  ...               False                True\n",
              " gdp_for_year ($)   False         True  ...                True               False\n",
              "gdp_per_capita ($)  False        False  ...               False                True\n",
              "\n",
              "[7 rows x 7 columns]"
            ]
          },
          "metadata": {
            "tags": []
          },
          "execution_count": 31
        }
      ]
    },
    {
      "cell_type": "code",
      "metadata": {
        "colab": {
          "base_uri": "https://localhost:8080/",
          "height": 353
        },
        "id": "RNDvra33fIAH",
        "outputId": "3cdbdd8b-bc55-4537-96e7-866a152ca62e"
      },
      "source": [
        "sns.heatmap(corr_mat, square=True, cmap='coolwarm')\n",
        "pass"
      ],
      "execution_count": 32,
      "outputs": [
        {
          "output_type": "display_data",
          "data": {
            "image/png": "[encoded data removed]",
            "text/plain": [
              "<Figure size 432x288 with 2 Axes>"
            ]
          },
          "metadata": {
            "tags": [],
            "needs_background": "light"
          }
        }
      ]
    },
    {
      "cell_type": "markdown",
      "metadata": {
        "id": "ivjwk6GJfOAb"
      },
      "source": [
        "Видна очевидная корреляция между индексом человеческого развития и подушевым ВВП. И вполне ожидаемая корреляция между количетвом населения и количеством суицидов."
      ]
    },
    {
      "cell_type": "markdown",
      "metadata": {
        "id": "16zmLtwajjCb"
      },
      "source": [
        "Диаграмма количества самоубийств по поколениям"
      ]
    },
    {
      "cell_type": "code",
      "metadata": {
        "colab": {
          "base_uri": "https://localhost:8080/",
          "height": 279
        },
        "id": "Kpb4AV6ZfL7P",
        "outputId": "e51753d6-84a2-41b5-d1d6-f7a4491e2729"
      },
      "source": [
        "sns.countplot(x='generation', data=data)\n",
        "pass"
      ],
      "execution_count": 33,
      "outputs": [
        {
          "output_type": "display_data",
          "data": {
            "image/png": "[encoded data removed]",
            "text/plain": [
              "<Figure size 432x288 with 1 Axes>"
            ]
          },
          "metadata": {
            "tags": [],
            "needs_background": "light"
          }
        }
      ]
    },
    {
      "cell_type": "markdown",
      "metadata": {
        "id": "hQIboTGQkwBg"
      },
      "source": [
        "## **4. Заполнение пропущенных значений**"
      ]
    },
    {
      "cell_type": "code",
      "metadata": {
        "colab": {
          "base_uri": "https://localhost:8080/"
        },
        "id": "oMEWq5H0kkRf",
        "outputId": "64e01fba-1045-497d-8828-2d27aab221ea"
      },
      "source": [
        "data.dtypes"
      ],
      "execution_count": 34,
      "outputs": [
        {
          "output_type": "execute_result",
          "data": {
            "text/plain": [
              "country               category\n",
              "year                     int64\n",
              "sex                   category\n",
              "age                   category\n",
              "suicides_no              int64\n",
              "population               int64\n",
              "suicides/100k pop      float64\n",
              "country-year          category\n",
              "HDI for year           float64\n",
              " gdp_for_year ($)      float64\n",
              "gdp_per_capita ($)       int64\n",
              "generation            category\n",
              "dtype: object"
            ]
          },
          "metadata": {
            "tags": []
          },
          "execution_count": 34
        }
      ]
    },
    {
      "cell_type": "code",
      "metadata": {
        "colab": {
          "base_uri": "https://localhost:8080/"
        },
        "id": "wYvdLAePlXo_",
        "outputId": "bf6f905f-aee4-4ce9-8b57-126e0bd58b73"
      },
      "source": [
        "data.isna().sum()"
      ],
      "execution_count": 35,
      "outputs": [
        {
          "output_type": "execute_result",
          "data": {
            "text/plain": [
              "country                   0\n",
              "year                      0\n",
              "sex                       0\n",
              "age                       0\n",
              "suicides_no               0\n",
              "population                0\n",
              "suicides/100k pop         0\n",
              "country-year              0\n",
              "HDI for year          19185\n",
              " gdp_for_year ($)         0\n",
              "gdp_per_capita ($)        0\n",
              "generation                0\n",
              "dtype: int64"
            ]
          },
          "metadata": {
            "tags": []
          },
          "execution_count": 35
        }
      ]
    },
    {
      "cell_type": "code",
      "metadata": {
        "id": "o52dAYYvlnGh"
      },
      "source": [
        "data.fillna(data.median(axis = 0), axis=0 , inplace=True)"
      ],
      "execution_count": 36,
      "outputs": []
    },
    {
      "cell_type": "code",
      "metadata": {
        "colab": {
          "base_uri": "https://localhost:8080/"
        },
        "id": "zFV6b-UlmGsT",
        "outputId": "a44fbc7c-5f81-43e5-ce3a-aaffeb05d872"
      },
      "source": [
        "data.isna().sum()"
      ],
      "execution_count": 37,
      "outputs": [
        {
          "output_type": "execute_result",
          "data": {
            "text/plain": [
              "country               0\n",
              "year                  0\n",
              "sex                   0\n",
              "age                   0\n",
              "suicides_no           0\n",
              "population            0\n",
              "suicides/100k pop     0\n",
              "country-year          0\n",
              "HDI for year          0\n",
              " gdp_for_year ($)     0\n",
              "gdp_per_capita ($)    0\n",
              "generation            0\n",
              "dtype: int64"
            ]
          },
          "metadata": {
            "tags": []
          },
          "execution_count": 37
        }
      ]
    },
    {
      "cell_type": "code",
      "metadata": {
        "colab": {
          "base_uri": "https://localhost:8080/"
        },
        "id": "sfRbe-VQmIWr",
        "outputId": "24b15e1d-c28a-49c7-8c54-1de34159cc3f"
      },
      "source": [
        "data.shape"
      ],
      "execution_count": 38,
      "outputs": [
        {
          "output_type": "execute_result",
          "data": {
            "text/plain": [
              "(27416, 12)"
            ]
          },
          "metadata": {
            "tags": []
          },
          "execution_count": 38
        }
      ]
    },
    {
      "cell_type": "code",
      "metadata": {
        "colab": {
          "base_uri": "https://localhost:8080/",
          "height": 297
        },
        "id": "vPs0pRQUmOCD",
        "outputId": "9c696422-cbe5-4e7e-9640-a46cea1c0a05"
      },
      "source": [
        "data.describe()"
      ],
      "execution_count": 39,
      "outputs": [
        {
          "output_type": "execute_result",
          "data": {
            "text/html": [
              "<div>\n",
              "<style scoped>\n",
              "    .dataframe tbody tr th:only-of-type {\n",
              "        vertical-align: middle;\n",
              "    }\n",
              "\n",
              "    .dataframe tbody tr th {\n",
              "        vertical-align: top;\n",
              "    }\n",
              "\n",
              "    .dataframe thead th {\n",
              "        text-align: right;\n",
              "    }\n",
              "</style>\n",
              "<table border=\"1\" class=\"dataframe\">\n",
              "  <thead>\n",
              "    <tr style=\"text-align: right;\">\n",
              "      <th></th>\n",
              "      <th>year</th>\n",
              "      <th>suicides_no</th>\n",
              "      <th>population</th>\n",
              "      <th>suicides/100k pop</th>\n",
              "      <th>HDI for year</th>\n",
              "      <th>gdp_for_year ($)</th>\n",
              "      <th>gdp_per_capita ($)</th>\n",
              "    </tr>\n",
              "  </thead>\n",
              "  <tbody>\n",
              "    <tr>\n",
              "      <th>count</th>\n",
              "      <td>27416.000000</td>\n",
              "      <td>27416.000000</td>\n",
              "      <td>2.741600e+04</td>\n",
              "      <td>27416.000000</td>\n",
              "      <td>27416.000000</td>\n",
              "      <td>2.741600e+04</td>\n",
              "      <td>27416.000000</td>\n",
              "    </tr>\n",
              "    <tr>\n",
              "      <th>mean</th>\n",
              "      <td>2001.227896</td>\n",
              "      <td>196.169573</td>\n",
              "      <td>1.763770e+06</td>\n",
              "      <td>12.611183</td>\n",
              "      <td>0.777262</td>\n",
              "      <td>4.278492e+11</td>\n",
              "      <td>16442.348665</td>\n",
              "    </tr>\n",
              "    <tr>\n",
              "      <th>std</th>\n",
              "      <td>8.474799</td>\n",
              "      <td>540.752165</td>\n",
              "      <td>3.618902e+06</td>\n",
              "      <td>18.718327</td>\n",
              "      <td>0.050613</td>\n",
              "      <td>1.383653e+12</td>\n",
              "      <td>17661.509817</td>\n",
              "    </tr>\n",
              "    <tr>\n",
              "      <th>min</th>\n",
              "      <td>1985.000000</td>\n",
              "      <td>0.000000</td>\n",
              "      <td>2.780000e+02</td>\n",
              "      <td>0.000000</td>\n",
              "      <td>0.483000</td>\n",
              "      <td>4.691962e+07</td>\n",
              "      <td>426.000000</td>\n",
              "    </tr>\n",
              "    <tr>\n",
              "      <th>25%</th>\n",
              "      <td>1995.000000</td>\n",
              "      <td>3.000000</td>\n",
              "      <td>9.803450e+04</td>\n",
              "      <td>0.900000</td>\n",
              "      <td>0.778000</td>\n",
              "      <td>9.024567e+09</td>\n",
              "      <td>3492.000000</td>\n",
              "    </tr>\n",
              "    <tr>\n",
              "      <th>50%</th>\n",
              "      <td>2002.000000</td>\n",
              "      <td>25.000000</td>\n",
              "      <td>4.314125e+05</td>\n",
              "      <td>5.910000</td>\n",
              "      <td>0.778000</td>\n",
              "      <td>4.755467e+10</td>\n",
              "      <td>9356.000000</td>\n",
              "    </tr>\n",
              "    <tr>\n",
              "      <th>75%</th>\n",
              "      <td>2008.000000</td>\n",
              "      <td>130.000000</td>\n",
              "      <td>1.472438e+06</td>\n",
              "      <td>16.330000</td>\n",
              "      <td>0.778000</td>\n",
              "      <td>2.581543e+11</td>\n",
              "      <td>24654.000000</td>\n",
              "    </tr>\n",
              "    <tr>\n",
              "      <th>max</th>\n",
              "      <td>2016.000000</td>\n",
              "      <td>6250.000000</td>\n",
              "      <td>4.380521e+07</td>\n",
              "      <td>224.970000</td>\n",
              "      <td>0.944000</td>\n",
              "      <td>1.812071e+13</td>\n",
              "      <td>107430.000000</td>\n",
              "    </tr>\n",
              "  </tbody>\n",
              "</table>\n",
              "</div>"
            ],
            "text/plain": [
              "               year   suicides_no  ...   gdp_for_year ($)   gdp_per_capita ($)\n",
              "count  27416.000000  27416.000000  ...        2.741600e+04        27416.000000\n",
              "mean    2001.227896    196.169573  ...        4.278492e+11        16442.348665\n",
              "std        8.474799    540.752165  ...        1.383653e+12        17661.509817\n",
              "min     1985.000000      0.000000  ...        4.691962e+07          426.000000\n",
              "25%     1995.000000      3.000000  ...        9.024567e+09         3492.000000\n",
              "50%     2002.000000     25.000000  ...        4.755467e+10         9356.000000\n",
              "75%     2008.000000    130.000000  ...        2.581543e+11        24654.000000\n",
              "max     2016.000000   6250.000000  ...        1.812071e+13       107430.000000\n",
              "\n",
              "[8 rows x 7 columns]"
            ]
          },
          "metadata": {
            "tags": []
          },
          "execution_count": 39
        }
      ]
    },
    {
      "cell_type": "code",
      "metadata": {
        "colab": {
          "base_uri": "https://localhost:8080/",
          "height": 173
        },
        "id": "-CGzreldmelb",
        "outputId": "b293fbb8-6503-440a-ab37-9fa6245d5119"
      },
      "source": [
        "data.describe(include=['category'])"
      ],
      "execution_count": 40,
      "outputs": [
        {
          "output_type": "execute_result",
          "data": {
            "text/html": [
              "<div>\n",
              "<style scoped>\n",
              "    .dataframe tbody tr th:only-of-type {\n",
              "        vertical-align: middle;\n",
              "    }\n",
              "\n",
              "    .dataframe tbody tr th {\n",
              "        vertical-align: top;\n",
              "    }\n",
              "\n",
              "    .dataframe thead th {\n",
              "        text-align: right;\n",
              "    }\n",
              "</style>\n",
              "<table border=\"1\" class=\"dataframe\">\n",
              "  <thead>\n",
              "    <tr style=\"text-align: right;\">\n",
              "      <th></th>\n",
              "      <th>country</th>\n",
              "      <th>sex</th>\n",
              "      <th>age</th>\n",
              "      <th>country-year</th>\n",
              "      <th>generation</th>\n",
              "    </tr>\n",
              "  </thead>\n",
              "  <tbody>\n",
              "    <tr>\n",
              "      <th>count</th>\n",
              "      <td>27416</td>\n",
              "      <td>27416</td>\n",
              "      <td>27416</td>\n",
              "      <td>27416</td>\n",
              "      <td>27416</td>\n",
              "    </tr>\n",
              "    <tr>\n",
              "      <th>unique</th>\n",
              "      <td>101</td>\n",
              "      <td>2</td>\n",
              "      <td>6</td>\n",
              "      <td>2299</td>\n",
              "      <td>6</td>\n",
              "    </tr>\n",
              "    <tr>\n",
              "      <th>top</th>\n",
              "      <td>Mauritius</td>\n",
              "      <td>female</td>\n",
              "      <td>75+ years</td>\n",
              "      <td>Uzbekistan2014</td>\n",
              "      <td>Generation X</td>\n",
              "    </tr>\n",
              "    <tr>\n",
              "      <th>freq</th>\n",
              "      <td>382</td>\n",
              "      <td>13778</td>\n",
              "      <td>4598</td>\n",
              "      <td>12</td>\n",
              "      <td>6321</td>\n",
              "    </tr>\n",
              "  </tbody>\n",
              "</table>\n",
              "</div>"
            ],
            "text/plain": [
              "          country     sex        age    country-year    generation\n",
              "count       27416   27416      27416           27416         27416\n",
              "unique        101       2          6            2299             6\n",
              "top     Mauritius  female  75+ years  Uzbekistan2014  Generation X\n",
              "freq          382   13778       4598              12          6321"
            ]
          },
          "metadata": {
            "tags": []
          },
          "execution_count": 40
        }
      ]
    },
    {
      "cell_type": "markdown",
      "metadata": {
        "id": "-IqRA1QYmlq9"
      },
      "source": [
        "**Векторизация**"
      ]
    },
    {
      "cell_type": "code",
      "metadata": {
        "colab": {
          "base_uri": "https://localhost:8080/"
        },
        "id": "G11w_tRYmsHr",
        "outputId": "079feafd-ae0b-4fc9-80d1-d513ced770f6"
      },
      "source": [
        "categorical_columns = [c for c in data.columns if data[c].dtype.name == 'category']\n",
        "numerical_columns   = [c for c in data.columns if data[c].dtype.name != 'category']\n",
        "print('categorical_columns=', categorical_columns)\n",
        "print('numerical_columns=', numerical_columns)"
      ],
      "execution_count": 42,
      "outputs": [
        {
          "output_type": "stream",
          "text": [
            "categorical_columns= ['country', 'sex', 'age', 'country-year', 'generation']\n",
            "numerical_columns= ['year', 'suicides_no', 'population', 'suicides/100k pop', 'HDI for year', ' gdp_for_year ($) ', 'gdp_per_capita ($)']\n"
          ],
          "name": "stdout"
        }
      ]
    },
    {
      "cell_type": "code",
      "metadata": {
        "colab": {
          "base_uri": "https://localhost:8080/"
        },
        "id": "gZvc3AL3pep6",
        "outputId": "6c7e87d5-beab-48ff-e8e5-5f192141fd0b"
      },
      "source": [
        "data_describe = data.describe(include=['category'])\n",
        "binary_columns    = [c for c in categorical_columns if data_describe[c]['unique'] == 2]\n",
        "nonbinary_columns = [c for c in categorical_columns if data_describe[c]['unique'] > 2]\n",
        "print('binary_columns=', binary_columns)\n",
        "print('nonbinary_columns=', nonbinary_columns)"
      ],
      "execution_count": 43,
      "outputs": [
        {
          "output_type": "stream",
          "text": [
            "binary_columns= ['sex']\n",
            "nonbinary_columns= ['country', 'age', 'country-year', 'generation']\n"
          ],
          "name": "stdout"
        }
      ]
    },
    {
      "cell_type": "markdown",
      "metadata": {
        "id": "jbNLKES6ppMv"
      },
      "source": [
        "Бинарный признак `sex` заменим на числовой"
      ]
    },
    {
      "cell_type": "code",
      "metadata": {
        "id": "QxOEL9TdpiXW"
      },
      "source": [
        "data['sex'] = pd.factorize(data['sex'])[0]"
      ],
      "execution_count": 44,
      "outputs": []
    },
    {
      "cell_type": "markdown",
      "metadata": {
        "id": "yRBydlbXqJ5c"
      },
      "source": [
        "Применим метод бинаризации (one-hot encoding)"
      ]
    },
    {
      "cell_type": "code",
      "metadata": {
        "colab": {
          "base_uri": "https://localhost:8080/"
        },
        "id": "Ksfx0TXcpwWt",
        "outputId": "5db2ce95-a5ad-4d13-f4f9-0e6808bdeea9"
      },
      "source": [
        "data_categorical = pd.get_dummies(data[nonbinary_columns])\n",
        "print(data_categorical.columns)"
      ],
      "execution_count": 45,
      "outputs": [
        {
          "output_type": "stream",
          "text": [
            "Index(['country_Albania', 'country_Antigua and Barbuda', 'country_Argentina',\n",
            "       'country_Armenia', 'country_Aruba', 'country_Australia',\n",
            "       'country_Austria', 'country_Azerbaijan', 'country_Bahamas',\n",
            "       'country_Bahrain',\n",
            "       ...\n",
            "       'country-year_Uzbekistan2011', 'country-year_Uzbekistan2012',\n",
            "       'country-year_Uzbekistan2013', 'country-year_Uzbekistan2014',\n",
            "       'generation_Boomers', 'generation_G.I. Generation',\n",
            "       'generation_Generation X', 'generation_Generation Z',\n",
            "       'generation_Millenials', 'generation_Silent'],\n",
            "      dtype='object', length=2434)\n"
          ],
          "name": "stdout"
        }
      ]
    },
    {
      "cell_type": "markdown",
      "metadata": {
        "id": "IRd8dqm5qh5d"
      },
      "source": [
        "**Нормализация**"
      ]
    },
    {
      "cell_type": "markdown",
      "metadata": {
        "id": "xcJfnrPOqu6U"
      },
      "source": [
        "Многие алгоритмы машинного обучения чувствительны к масштабированию данных. К таким алгоритмам, например, относится метод ближайших соседей, машина опорных векторов и др.\n",
        "\n",
        "В этом случае количественные признаки полезно нормализовать. Это можно делать разными способами. Например, каждый количественный признак приведем к нулевому среднему и единичному среднеквадратичному отклонению.\n",
        "\n",
        "Не будем нормализовать целевой признак `suicides_no`"
      ]
    },
    {
      "cell_type": "code",
      "metadata": {
        "id": "S1SDlVOZqSNV"
      },
      "source": [
        "numerical_columns_exept_suicides_no=['year', 'population', 'suicides/100k pop', 'HDI for year', ' gdp_for_year ($) ', 'gdp_per_capita ($)']"
      ],
      "execution_count": 46,
      "outputs": []
    },
    {
      "cell_type": "code",
      "metadata": {
        "colab": {
          "base_uri": "https://localhost:8080/",
          "height": 297
        },
        "id": "PEj1bbhZq8HW",
        "outputId": "86e68a5d-37fd-4f53-e5be-dbce63c9824a"
      },
      "source": [
        "data_numerical_exept_suicides_no = data[numerical_columns_exept_suicides_no]\n",
        "data_numerical_exept_suicides_no.describe()"
      ],
      "execution_count": 47,
      "outputs": [
        {
          "output_type": "execute_result",
          "data": {
            "text/html": [
              "<div>\n",
              "<style scoped>\n",
              "    .dataframe tbody tr th:only-of-type {\n",
              "        vertical-align: middle;\n",
              "    }\n",
              "\n",
              "    .dataframe tbody tr th {\n",
              "        vertical-align: top;\n",
              "    }\n",
              "\n",
              "    .dataframe thead th {\n",
              "        text-align: right;\n",
              "    }\n",
              "</style>\n",
              "<table border=\"1\" class=\"dataframe\">\n",
              "  <thead>\n",
              "    <tr style=\"text-align: right;\">\n",
              "      <th></th>\n",
              "      <th>year</th>\n",
              "      <th>population</th>\n",
              "      <th>suicides/100k pop</th>\n",
              "      <th>HDI for year</th>\n",
              "      <th>gdp_for_year ($)</th>\n",
              "      <th>gdp_per_capita ($)</th>\n",
              "    </tr>\n",
              "  </thead>\n",
              "  <tbody>\n",
              "    <tr>\n",
              "      <th>count</th>\n",
              "      <td>27416.000000</td>\n",
              "      <td>2.741600e+04</td>\n",
              "      <td>27416.000000</td>\n",
              "      <td>27416.000000</td>\n",
              "      <td>2.741600e+04</td>\n",
              "      <td>27416.000000</td>\n",
              "    </tr>\n",
              "    <tr>\n",
              "      <th>mean</th>\n",
              "      <td>2001.227896</td>\n",
              "      <td>1.763770e+06</td>\n",
              "      <td>12.611183</td>\n",
              "      <td>0.777262</td>\n",
              "      <td>4.278492e+11</td>\n",
              "      <td>16442.348665</td>\n",
              "    </tr>\n",
              "    <tr>\n",
              "      <th>std</th>\n",
              "      <td>8.474799</td>\n",
              "      <td>3.618902e+06</td>\n",
              "      <td>18.718327</td>\n",
              "      <td>0.050613</td>\n",
              "      <td>1.383653e+12</td>\n",
              "      <td>17661.509817</td>\n",
              "    </tr>\n",
              "    <tr>\n",
              "      <th>min</th>\n",
              "      <td>1985.000000</td>\n",
              "      <td>2.780000e+02</td>\n",
              "      <td>0.000000</td>\n",
              "      <td>0.483000</td>\n",
              "      <td>4.691962e+07</td>\n",
              "      <td>426.000000</td>\n",
              "    </tr>\n",
              "    <tr>\n",
              "      <th>25%</th>\n",
              "      <td>1995.000000</td>\n",
              "      <td>9.803450e+04</td>\n",
              "      <td>0.900000</td>\n",
              "      <td>0.778000</td>\n",
              "      <td>9.024567e+09</td>\n",
              "      <td>3492.000000</td>\n",
              "    </tr>\n",
              "    <tr>\n",
              "      <th>50%</th>\n",
              "      <td>2002.000000</td>\n",
              "      <td>4.314125e+05</td>\n",
              "      <td>5.910000</td>\n",
              "      <td>0.778000</td>\n",
              "      <td>4.755467e+10</td>\n",
              "      <td>9356.000000</td>\n",
              "    </tr>\n",
              "    <tr>\n",
              "      <th>75%</th>\n",
              "      <td>2008.000000</td>\n",
              "      <td>1.472438e+06</td>\n",
              "      <td>16.330000</td>\n",
              "      <td>0.778000</td>\n",
              "      <td>2.581543e+11</td>\n",
              "      <td>24654.000000</td>\n",
              "    </tr>\n",
              "    <tr>\n",
              "      <th>max</th>\n",
              "      <td>2016.000000</td>\n",
              "      <td>4.380521e+07</td>\n",
              "      <td>224.970000</td>\n",
              "      <td>0.944000</td>\n",
              "      <td>1.812071e+13</td>\n",
              "      <td>107430.000000</td>\n",
              "    </tr>\n",
              "  </tbody>\n",
              "</table>\n",
              "</div>"
            ],
            "text/plain": [
              "               year    population  ...   gdp_for_year ($)   gdp_per_capita ($)\n",
              "count  27416.000000  2.741600e+04  ...        2.741600e+04        27416.000000\n",
              "mean    2001.227896  1.763770e+06  ...        4.278492e+11        16442.348665\n",
              "std        8.474799  3.618902e+06  ...        1.383653e+12        17661.509817\n",
              "min     1985.000000  2.780000e+02  ...        4.691962e+07          426.000000\n",
              "25%     1995.000000  9.803450e+04  ...        9.024567e+09         3492.000000\n",
              "50%     2002.000000  4.314125e+05  ...        4.755467e+10         9356.000000\n",
              "75%     2008.000000  1.472438e+06  ...        2.581543e+11        24654.000000\n",
              "max     2016.000000  4.380521e+07  ...        1.812071e+13       107430.000000\n",
              "\n",
              "[8 rows x 6 columns]"
            ]
          },
          "metadata": {
            "tags": []
          },
          "execution_count": 47
        }
      ]
    },
    {
      "cell_type": "code",
      "metadata": {
        "id": "bwl2hJ7Rq-hc"
      },
      "source": [
        "data_numerical_exept_suicides_no = (data_numerical_exept_suicides_no - data_numerical_exept_suicides_no.mean(axis = 0))/data_numerical_exept_suicides_no.std(axis = 0)"
      ],
      "execution_count": 48,
      "outputs": []
    },
    {
      "cell_type": "code",
      "metadata": {
        "colab": {
          "base_uri": "https://localhost:8080/",
          "height": 297
        },
        "id": "ZYbpKr1KrEBk",
        "outputId": "b30e2bae-f68c-4530-d017-0d3f00e01bb0"
      },
      "source": [
        "data_numerical_exept_suicides_no.describe()"
      ],
      "execution_count": 49,
      "outputs": [
        {
          "output_type": "execute_result",
          "data": {
            "text/html": [
              "<div>\n",
              "<style scoped>\n",
              "    .dataframe tbody tr th:only-of-type {\n",
              "        vertical-align: middle;\n",
              "    }\n",
              "\n",
              "    .dataframe tbody tr th {\n",
              "        vertical-align: top;\n",
              "    }\n",
              "\n",
              "    .dataframe thead th {\n",
              "        text-align: right;\n",
              "    }\n",
              "</style>\n",
              "<table border=\"1\" class=\"dataframe\">\n",
              "  <thead>\n",
              "    <tr style=\"text-align: right;\">\n",
              "      <th></th>\n",
              "      <th>year</th>\n",
              "      <th>population</th>\n",
              "      <th>suicides/100k pop</th>\n",
              "      <th>HDI for year</th>\n",
              "      <th>gdp_for_year ($)</th>\n",
              "      <th>gdp_per_capita ($)</th>\n",
              "    </tr>\n",
              "  </thead>\n",
              "  <tbody>\n",
              "    <tr>\n",
              "      <th>count</th>\n",
              "      <td>2.741600e+04</td>\n",
              "      <td>2.741600e+04</td>\n",
              "      <td>2.741600e+04</td>\n",
              "      <td>2.741600e+04</td>\n",
              "      <td>2.741600e+04</td>\n",
              "      <td>2.741600e+04</td>\n",
              "    </tr>\n",
              "    <tr>\n",
              "      <th>mean</th>\n",
              "      <td>1.771546e-15</td>\n",
              "      <td>7.014848e-16</td>\n",
              "      <td>-2.764964e-15</td>\n",
              "      <td>3.119815e-12</td>\n",
              "      <td>3.536386e-16</td>\n",
              "      <td>3.187720e-16</td>\n",
              "    </tr>\n",
              "    <tr>\n",
              "      <th>std</th>\n",
              "      <td>1.000000e+00</td>\n",
              "      <td>1.000000e+00</td>\n",
              "      <td>1.000000e+00</td>\n",
              "      <td>1.000000e+00</td>\n",
              "      <td>1.000000e+00</td>\n",
              "      <td>1.000000e+00</td>\n",
              "    </tr>\n",
              "    <tr>\n",
              "      <th>min</th>\n",
              "      <td>-1.914841e+00</td>\n",
              "      <td>-4.873004e-01</td>\n",
              "      <td>-6.737345e-01</td>\n",
              "      <td>-5.813930e+00</td>\n",
              "      <td>-3.091833e-01</td>\n",
              "      <td>-9.068505e-01</td>\n",
              "    </tr>\n",
              "    <tr>\n",
              "      <th>25%</th>\n",
              "      <td>-7.348724e-01</td>\n",
              "      <td>-4.602876e-01</td>\n",
              "      <td>-6.256533e-01</td>\n",
              "      <td>1.457754e-02</td>\n",
              "      <td>-3.026949e-01</td>\n",
              "      <td>-7.332526e-01</td>\n",
              "    </tr>\n",
              "    <tr>\n",
              "      <th>50%</th>\n",
              "      <td>9.110586e-02</td>\n",
              "      <td>-3.681663e-01</td>\n",
              "      <td>-3.580012e-01</td>\n",
              "      <td>1.457754e-02</td>\n",
              "      <td>-2.748482e-01</td>\n",
              "      <td>-4.012312e-01</td>\n",
              "    </tr>\n",
              "    <tr>\n",
              "      <th>75%</th>\n",
              "      <td>7.990873e-01</td>\n",
              "      <td>-8.050287e-02</td>\n",
              "      <td>1.986725e-01</td>\n",
              "      <td>1.457754e-02</td>\n",
              "      <td>-1.226427e-01</td>\n",
              "      <td>4.649462e-01</td>\n",
              "    </tr>\n",
              "    <tr>\n",
              "      <th>max</th>\n",
              "      <td>1.743062e+00</td>\n",
              "      <td>1.161718e+01</td>\n",
              "      <td>1.134497e+01</td>\n",
              "      <td>3.294348e+00</td>\n",
              "      <td>1.278707e+01</td>\n",
              "      <td>5.151748e+00</td>\n",
              "    </tr>\n",
              "  </tbody>\n",
              "</table>\n",
              "</div>"
            ],
            "text/plain": [
              "               year    population  ...   gdp_for_year ($)   gdp_per_capita ($)\n",
              "count  2.741600e+04  2.741600e+04  ...        2.741600e+04        2.741600e+04\n",
              "mean   1.771546e-15  7.014848e-16  ...        3.536386e-16        3.187720e-16\n",
              "std    1.000000e+00  1.000000e+00  ...        1.000000e+00        1.000000e+00\n",
              "min   -1.914841e+00 -4.873004e-01  ...       -3.091833e-01       -9.068505e-01\n",
              "25%   -7.348724e-01 -4.602876e-01  ...       -3.026949e-01       -7.332526e-01\n",
              "50%    9.110586e-02 -3.681663e-01  ...       -2.748482e-01       -4.012312e-01\n",
              "75%    7.990873e-01 -8.050287e-02  ...       -1.226427e-01        4.649462e-01\n",
              "max    1.743062e+00  1.161718e+01  ...        1.278707e+01        5.151748e+00\n",
              "\n",
              "[8 rows x 6 columns]"
            ]
          },
          "metadata": {
            "tags": []
          },
          "execution_count": 49
        }
      ]
    },
    {
      "cell_type": "markdown",
      "metadata": {
        "id": "lwkxofrnrKPU"
      },
      "source": [
        "**Соединяем всё в одну таблицу**"
      ]
    },
    {
      "cell_type": "code",
      "metadata": {
        "colab": {
          "base_uri": "https://localhost:8080/"
        },
        "id": "EIZ90U3erGAU",
        "outputId": "7014e1f0-76e4-4c00-c662-792f1f877079"
      },
      "source": [
        "data = pd.concat((data['suicides_no'], data_numerical_exept_suicides_no, data_categorical), axis = 1)\n",
        "print(data.shape)"
      ],
      "execution_count": 50,
      "outputs": [
        {
          "output_type": "stream",
          "text": [
            "(27416, 2441)\n"
          ],
          "name": "stdout"
        }
      ]
    },
    {
      "cell_type": "code",
      "metadata": {
        "colab": {
          "base_uri": "https://localhost:8080/",
          "height": 448
        },
        "id": "NesV6YxMrNZT",
        "outputId": "2f1f36da-5c54-4fe6-ed16-87dc36bf8ce0"
      },
      "source": [
        "data.describe()"
      ],
      "execution_count": 51,
      "outputs": [
        {
          "output_type": "execute_result",
          "data": {
            "text/html": [
              "<div>\n",
              "<style scoped>\n",
              "    .dataframe tbody tr th:only-of-type {\n",
              "        vertical-align: middle;\n",
              "    }\n",
              "\n",
              "    .dataframe tbody tr th {\n",
              "        vertical-align: top;\n",
              "    }\n",
              "\n",
              "    .dataframe thead th {\n",
              "        text-align: right;\n",
              "    }\n",
              "</style>\n",
              "<table border=\"1\" class=\"dataframe\">\n",
              "  <thead>\n",
              "    <tr style=\"text-align: right;\">\n",
              "      <th></th>\n",
              "      <th>suicides_no</th>\n",
              "      <th>year</th>\n",
              "      <th>population</th>\n",
              "      <th>suicides/100k pop</th>\n",
              "      <th>HDI for year</th>\n",
              "      <th>gdp_for_year ($)</th>\n",
              "      <th>gdp_per_capita ($)</th>\n",
              "      <th>country_Albania</th>\n",
              "      <th>country_Antigua and Barbuda</th>\n",
              "      <th>country_Argentina</th>\n",
              "      <th>country_Armenia</th>\n",
              "      <th>country_Aruba</th>\n",
              "      <th>country_Australia</th>\n",
              "      <th>country_Austria</th>\n",
              "      <th>country_Azerbaijan</th>\n",
              "      <th>country_Bahamas</th>\n",
              "      <th>country_Bahrain</th>\n",
              "      <th>country_Barbados</th>\n",
              "      <th>country_Belarus</th>\n",
              "      <th>country_Belgium</th>\n",
              "      <th>country_Belize</th>\n",
              "      <th>country_Bosnia and Herzegovina</th>\n",
              "      <th>country_Brazil</th>\n",
              "      <th>country_Bulgaria</th>\n",
              "      <th>country_Cabo Verde</th>\n",
              "      <th>country_Canada</th>\n",
              "      <th>country_Chile</th>\n",
              "      <th>country_Colombia</th>\n",
              "      <th>country_Costa Rica</th>\n",
              "      <th>country_Croatia</th>\n",
              "      <th>country_Cuba</th>\n",
              "      <th>country_Cyprus</th>\n",
              "      <th>country_Czech Republic</th>\n",
              "      <th>country_Denmark</th>\n",
              "      <th>country_Dominica</th>\n",
              "      <th>country_Ecuador</th>\n",
              "      <th>country_El Salvador</th>\n",
              "      <th>country_Estonia</th>\n",
              "      <th>country_Fiji</th>\n",
              "      <th>country_Finland</th>\n",
              "      <th>...</th>\n",
              "      <th>country-year_Uruguay2003</th>\n",
              "      <th>country-year_Uruguay2004</th>\n",
              "      <th>country-year_Uruguay2005</th>\n",
              "      <th>country-year_Uruguay2006</th>\n",
              "      <th>country-year_Uruguay2007</th>\n",
              "      <th>country-year_Uruguay2008</th>\n",
              "      <th>country-year_Uruguay2009</th>\n",
              "      <th>country-year_Uruguay2010</th>\n",
              "      <th>country-year_Uruguay2012</th>\n",
              "      <th>country-year_Uruguay2013</th>\n",
              "      <th>country-year_Uruguay2014</th>\n",
              "      <th>country-year_Uruguay2015</th>\n",
              "      <th>country-year_Uzbekistan1990</th>\n",
              "      <th>country-year_Uzbekistan1991</th>\n",
              "      <th>country-year_Uzbekistan1992</th>\n",
              "      <th>country-year_Uzbekistan1993</th>\n",
              "      <th>country-year_Uzbekistan1994</th>\n",
              "      <th>country-year_Uzbekistan1995</th>\n",
              "      <th>country-year_Uzbekistan1996</th>\n",
              "      <th>country-year_Uzbekistan1997</th>\n",
              "      <th>country-year_Uzbekistan1998</th>\n",
              "      <th>country-year_Uzbekistan1999</th>\n",
              "      <th>country-year_Uzbekistan2000</th>\n",
              "      <th>country-year_Uzbekistan2001</th>\n",
              "      <th>country-year_Uzbekistan2002</th>\n",
              "      <th>country-year_Uzbekistan2003</th>\n",
              "      <th>country-year_Uzbekistan2004</th>\n",
              "      <th>country-year_Uzbekistan2005</th>\n",
              "      <th>country-year_Uzbekistan2009</th>\n",
              "      <th>country-year_Uzbekistan2010</th>\n",
              "      <th>country-year_Uzbekistan2011</th>\n",
              "      <th>country-year_Uzbekistan2012</th>\n",
              "      <th>country-year_Uzbekistan2013</th>\n",
              "      <th>country-year_Uzbekistan2014</th>\n",
              "      <th>generation_Boomers</th>\n",
              "      <th>generation_G.I. Generation</th>\n",
              "      <th>generation_Generation X</th>\n",
              "      <th>generation_Generation Z</th>\n",
              "      <th>generation_Millenials</th>\n",
              "      <th>generation_Silent</th>\n",
              "    </tr>\n",
              "  </thead>\n",
              "  <tbody>\n",
              "    <tr>\n",
              "      <th>count</th>\n",
              "      <td>27416.000000</td>\n",
              "      <td>2.741600e+04</td>\n",
              "      <td>2.741600e+04</td>\n",
              "      <td>2.741600e+04</td>\n",
              "      <td>2.741600e+04</td>\n",
              "      <td>2.741600e+04</td>\n",
              "      <td>2.741600e+04</td>\n",
              "      <td>27416.000000</td>\n",
              "      <td>27416.000000</td>\n",
              "      <td>27416.000000</td>\n",
              "      <td>27416.000000</td>\n",
              "      <td>27416.000000</td>\n",
              "      <td>27416.000000</td>\n",
              "      <td>27416.000000</td>\n",
              "      <td>27416.000000</td>\n",
              "      <td>27416.000000</td>\n",
              "      <td>27416.000000</td>\n",
              "      <td>27416.000000</td>\n",
              "      <td>27416.000000</td>\n",
              "      <td>27416.000000</td>\n",
              "      <td>27416.000000</td>\n",
              "      <td>27416.000000</td>\n",
              "      <td>27416.000000</td>\n",
              "      <td>27416.000000</td>\n",
              "      <td>27416.000000</td>\n",
              "      <td>27416.000000</td>\n",
              "      <td>27416.000000</td>\n",
              "      <td>27416.000000</td>\n",
              "      <td>27416.000000</td>\n",
              "      <td>27416.000000</td>\n",
              "      <td>27416.000000</td>\n",
              "      <td>27416.000000</td>\n",
              "      <td>27416.000000</td>\n",
              "      <td>27416.000000</td>\n",
              "      <td>27416.000000</td>\n",
              "      <td>27416.000000</td>\n",
              "      <td>27416.000000</td>\n",
              "      <td>27416.000000</td>\n",
              "      <td>27416.000000</td>\n",
              "      <td>27416.000000</td>\n",
              "      <td>...</td>\n",
              "      <td>27416.000000</td>\n",
              "      <td>27416.000000</td>\n",
              "      <td>27416.000000</td>\n",
              "      <td>27416.000000</td>\n",
              "      <td>27416.000000</td>\n",
              "      <td>27416.000000</td>\n",
              "      <td>27416.000000</td>\n",
              "      <td>27416.000000</td>\n",
              "      <td>27416.000000</td>\n",
              "      <td>27416.000000</td>\n",
              "      <td>27416.000000</td>\n",
              "      <td>27416.000000</td>\n",
              "      <td>27416.000000</td>\n",
              "      <td>27416.000000</td>\n",
              "      <td>27416.000000</td>\n",
              "      <td>27416.000000</td>\n",
              "      <td>27416.000000</td>\n",
              "      <td>27416.000000</td>\n",
              "      <td>27416.000000</td>\n",
              "      <td>27416.000000</td>\n",
              "      <td>27416.000000</td>\n",
              "      <td>27416.000000</td>\n",
              "      <td>27416.000000</td>\n",
              "      <td>27416.000000</td>\n",
              "      <td>27416.000000</td>\n",
              "      <td>27416.000000</td>\n",
              "      <td>27416.000000</td>\n",
              "      <td>27416.000000</td>\n",
              "      <td>27416.000000</td>\n",
              "      <td>27416.000000</td>\n",
              "      <td>27416.000000</td>\n",
              "      <td>27416.000000</td>\n",
              "      <td>27416.000000</td>\n",
              "      <td>27416.000000</td>\n",
              "      <td>27416.000000</td>\n",
              "      <td>27416.000000</td>\n",
              "      <td>27416.000000</td>\n",
              "      <td>27416.000000</td>\n",
              "      <td>27416.000000</td>\n",
              "      <td>27416.000000</td>\n",
              "    </tr>\n",
              "    <tr>\n",
              "      <th>mean</th>\n",
              "      <td>196.169573</td>\n",
              "      <td>1.771546e-15</td>\n",
              "      <td>7.014848e-16</td>\n",
              "      <td>-2.764964e-15</td>\n",
              "      <td>3.119815e-12</td>\n",
              "      <td>3.536386e-16</td>\n",
              "      <td>3.187720e-16</td>\n",
              "      <td>0.009192</td>\n",
              "      <td>0.011818</td>\n",
              "      <td>0.013569</td>\n",
              "      <td>0.009556</td>\n",
              "      <td>0.006128</td>\n",
              "      <td>0.013131</td>\n",
              "      <td>0.013933</td>\n",
              "      <td>0.007003</td>\n",
              "      <td>0.010067</td>\n",
              "      <td>0.009192</td>\n",
              "      <td>0.010943</td>\n",
              "      <td>0.009192</td>\n",
              "      <td>0.013569</td>\n",
              "      <td>0.012256</td>\n",
              "      <td>0.000875</td>\n",
              "      <td>0.013569</td>\n",
              "      <td>0.013131</td>\n",
              "      <td>0.000438</td>\n",
              "      <td>0.012693</td>\n",
              "      <td>0.013569</td>\n",
              "      <td>0.013569</td>\n",
              "      <td>0.013131</td>\n",
              "      <td>0.009556</td>\n",
              "      <td>0.010505</td>\n",
              "      <td>0.006493</td>\n",
              "      <td>0.011745</td>\n",
              "      <td>0.009629</td>\n",
              "      <td>0.000438</td>\n",
              "      <td>0.013569</td>\n",
              "      <td>0.010505</td>\n",
              "      <td>0.009192</td>\n",
              "      <td>0.004815</td>\n",
              "      <td>0.012693</td>\n",
              "      <td>...</td>\n",
              "      <td>0.000438</td>\n",
              "      <td>0.000438</td>\n",
              "      <td>0.000438</td>\n",
              "      <td>0.000438</td>\n",
              "      <td>0.000438</td>\n",
              "      <td>0.000438</td>\n",
              "      <td>0.000438</td>\n",
              "      <td>0.000438</td>\n",
              "      <td>0.000438</td>\n",
              "      <td>0.000438</td>\n",
              "      <td>0.000438</td>\n",
              "      <td>0.000438</td>\n",
              "      <td>0.000438</td>\n",
              "      <td>0.000438</td>\n",
              "      <td>0.000438</td>\n",
              "      <td>0.000438</td>\n",
              "      <td>0.000438</td>\n",
              "      <td>0.000438</td>\n",
              "      <td>0.000438</td>\n",
              "      <td>0.000438</td>\n",
              "      <td>0.000438</td>\n",
              "      <td>0.000438</td>\n",
              "      <td>0.000438</td>\n",
              "      <td>0.000438</td>\n",
              "      <td>0.000438</td>\n",
              "      <td>0.000438</td>\n",
              "      <td>0.000438</td>\n",
              "      <td>0.000438</td>\n",
              "      <td>0.000438</td>\n",
              "      <td>0.000438</td>\n",
              "      <td>0.000438</td>\n",
              "      <td>0.000438</td>\n",
              "      <td>0.000438</td>\n",
              "      <td>0.000438</td>\n",
              "      <td>0.177925</td>\n",
              "      <td>0.099467</td>\n",
              "      <td>0.230559</td>\n",
              "      <td>0.052816</td>\n",
              "      <td>0.210753</td>\n",
              "      <td>0.228480</td>\n",
              "    </tr>\n",
              "    <tr>\n",
              "      <th>std</th>\n",
              "      <td>540.752165</td>\n",
              "      <td>1.000000e+00</td>\n",
              "      <td>1.000000e+00</td>\n",
              "      <td>1.000000e+00</td>\n",
              "      <td>1.000000e+00</td>\n",
              "      <td>1.000000e+00</td>\n",
              "      <td>1.000000e+00</td>\n",
              "      <td>0.095434</td>\n",
              "      <td>0.108068</td>\n",
              "      <td>0.115694</td>\n",
              "      <td>0.097291</td>\n",
              "      <td>0.078042</td>\n",
              "      <td>0.113838</td>\n",
              "      <td>0.117217</td>\n",
              "      <td>0.083393</td>\n",
              "      <td>0.099831</td>\n",
              "      <td>0.095434</td>\n",
              "      <td>0.104034</td>\n",
              "      <td>0.095434</td>\n",
              "      <td>0.115694</td>\n",
              "      <td>0.110027</td>\n",
              "      <td>0.029575</td>\n",
              "      <td>0.115694</td>\n",
              "      <td>0.113838</td>\n",
              "      <td>0.020917</td>\n",
              "      <td>0.111949</td>\n",
              "      <td>0.115694</td>\n",
              "      <td>0.115694</td>\n",
              "      <td>0.113838</td>\n",
              "      <td>0.097291</td>\n",
              "      <td>0.101955</td>\n",
              "      <td>0.080316</td>\n",
              "      <td>0.107738</td>\n",
              "      <td>0.097658</td>\n",
              "      <td>0.020917</td>\n",
              "      <td>0.115694</td>\n",
              "      <td>0.101955</td>\n",
              "      <td>0.095434</td>\n",
              "      <td>0.069222</td>\n",
              "      <td>0.111949</td>\n",
              "      <td>...</td>\n",
              "      <td>0.020917</td>\n",
              "      <td>0.020917</td>\n",
              "      <td>0.020917</td>\n",
              "      <td>0.020917</td>\n",
              "      <td>0.020917</td>\n",
              "      <td>0.020917</td>\n",
              "      <td>0.020917</td>\n",
              "      <td>0.020917</td>\n",
              "      <td>0.020917</td>\n",
              "      <td>0.020917</td>\n",
              "      <td>0.020917</td>\n",
              "      <td>0.020917</td>\n",
              "      <td>0.020917</td>\n",
              "      <td>0.020917</td>\n",
              "      <td>0.020917</td>\n",
              "      <td>0.020917</td>\n",
              "      <td>0.020917</td>\n",
              "      <td>0.020917</td>\n",
              "      <td>0.020917</td>\n",
              "      <td>0.020917</td>\n",
              "      <td>0.020917</td>\n",
              "      <td>0.020917</td>\n",
              "      <td>0.020917</td>\n",
              "      <td>0.020917</td>\n",
              "      <td>0.020917</td>\n",
              "      <td>0.020917</td>\n",
              "      <td>0.020917</td>\n",
              "      <td>0.020917</td>\n",
              "      <td>0.020917</td>\n",
              "      <td>0.020917</td>\n",
              "      <td>0.020917</td>\n",
              "      <td>0.020917</td>\n",
              "      <td>0.020917</td>\n",
              "      <td>0.020917</td>\n",
              "      <td>0.382457</td>\n",
              "      <td>0.299294</td>\n",
              "      <td>0.421198</td>\n",
              "      <td>0.223670</td>\n",
              "      <td>0.407851</td>\n",
              "      <td>0.419861</td>\n",
              "    </tr>\n",
              "    <tr>\n",
              "      <th>min</th>\n",
              "      <td>0.000000</td>\n",
              "      <td>-1.914841e+00</td>\n",
              "      <td>-4.873004e-01</td>\n",
              "      <td>-6.737345e-01</td>\n",
              "      <td>-5.813930e+00</td>\n",
              "      <td>-3.091833e-01</td>\n",
              "      <td>-9.068505e-01</td>\n",
              "      <td>0.000000</td>\n",
              "      <td>0.000000</td>\n",
              "      <td>0.000000</td>\n",
              "      <td>0.000000</td>\n",
              "      <td>0.000000</td>\n",
              "      <td>0.000000</td>\n",
              "      <td>0.000000</td>\n",
              "      <td>0.000000</td>\n",
              "      <td>0.000000</td>\n",
              "      <td>0.000000</td>\n",
              "      <td>0.000000</td>\n",
              "      <td>0.000000</td>\n",
              "      <td>0.000000</td>\n",
              "      <td>0.000000</td>\n",
              "      <td>0.000000</td>\n",
              "      <td>0.000000</td>\n",
              "      <td>0.000000</td>\n",
              "      <td>0.000000</td>\n",
              "      <td>0.000000</td>\n",
              "      <td>0.000000</td>\n",
              "      <td>0.000000</td>\n",
              "      <td>0.000000</td>\n",
              "      <td>0.000000</td>\n",
              "      <td>0.000000</td>\n",
              "      <td>0.000000</td>\n",
              "      <td>0.000000</td>\n",
              "      <td>0.000000</td>\n",
              "      <td>0.000000</td>\n",
              "      <td>0.000000</td>\n",
              "      <td>0.000000</td>\n",
              "      <td>0.000000</td>\n",
              "      <td>0.000000</td>\n",
              "      <td>0.000000</td>\n",
              "      <td>...</td>\n",
              "      <td>0.000000</td>\n",
              "      <td>0.000000</td>\n",
              "      <td>0.000000</td>\n",
              "      <td>0.000000</td>\n",
              "      <td>0.000000</td>\n",
              "      <td>0.000000</td>\n",
              "      <td>0.000000</td>\n",
              "      <td>0.000000</td>\n",
              "      <td>0.000000</td>\n",
              "      <td>0.000000</td>\n",
              "      <td>0.000000</td>\n",
              "      <td>0.000000</td>\n",
              "      <td>0.000000</td>\n",
              "      <td>0.000000</td>\n",
              "      <td>0.000000</td>\n",
              "      <td>0.000000</td>\n",
              "      <td>0.000000</td>\n",
              "      <td>0.000000</td>\n",
              "      <td>0.000000</td>\n",
              "      <td>0.000000</td>\n",
              "      <td>0.000000</td>\n",
              "      <td>0.000000</td>\n",
              "      <td>0.000000</td>\n",
              "      <td>0.000000</td>\n",
              "      <td>0.000000</td>\n",
              "      <td>0.000000</td>\n",
              "      <td>0.000000</td>\n",
              "      <td>0.000000</td>\n",
              "      <td>0.000000</td>\n",
              "      <td>0.000000</td>\n",
              "      <td>0.000000</td>\n",
              "      <td>0.000000</td>\n",
              "      <td>0.000000</td>\n",
              "      <td>0.000000</td>\n",
              "      <td>0.000000</td>\n",
              "      <td>0.000000</td>\n",
              "      <td>0.000000</td>\n",
              "      <td>0.000000</td>\n",
              "      <td>0.000000</td>\n",
              "      <td>0.000000</td>\n",
              "    </tr>\n",
              "    <tr>\n",
              "      <th>25%</th>\n",
              "      <td>3.000000</td>\n",
              "      <td>-7.348724e-01</td>\n",
              "      <td>-4.602876e-01</td>\n",
              "      <td>-6.256533e-01</td>\n",
              "      <td>1.457754e-02</td>\n",
              "      <td>-3.026949e-01</td>\n",
              "      <td>-7.332526e-01</td>\n",
              "      <td>0.000000</td>\n",
              "      <td>0.000000</td>\n",
              "      <td>0.000000</td>\n",
              "      <td>0.000000</td>\n",
              "      <td>0.000000</td>\n",
              "      <td>0.000000</td>\n",
              "      <td>0.000000</td>\n",
              "      <td>0.000000</td>\n",
              "      <td>0.000000</td>\n",
              "      <td>0.000000</td>\n",
              "      <td>0.000000</td>\n",
              "      <td>0.000000</td>\n",
              "      <td>0.000000</td>\n",
              "      <td>0.000000</td>\n",
              "      <td>0.000000</td>\n",
              "      <td>0.000000</td>\n",
              "      <td>0.000000</td>\n",
              "      <td>0.000000</td>\n",
              "      <td>0.000000</td>\n",
              "      <td>0.000000</td>\n",
              "      <td>0.000000</td>\n",
              "      <td>0.000000</td>\n",
              "      <td>0.000000</td>\n",
              "      <td>0.000000</td>\n",
              "      <td>0.000000</td>\n",
              "      <td>0.000000</td>\n",
              "      <td>0.000000</td>\n",
              "      <td>0.000000</td>\n",
              "      <td>0.000000</td>\n",
              "      <td>0.000000</td>\n",
              "      <td>0.000000</td>\n",
              "      <td>0.000000</td>\n",
              "      <td>0.000000</td>\n",
              "      <td>...</td>\n",
              "      <td>0.000000</td>\n",
              "      <td>0.000000</td>\n",
              "      <td>0.000000</td>\n",
              "      <td>0.000000</td>\n",
              "      <td>0.000000</td>\n",
              "      <td>0.000000</td>\n",
              "      <td>0.000000</td>\n",
              "      <td>0.000000</td>\n",
              "      <td>0.000000</td>\n",
              "      <td>0.000000</td>\n",
              "      <td>0.000000</td>\n",
              "      <td>0.000000</td>\n",
              "      <td>0.000000</td>\n",
              "      <td>0.000000</td>\n",
              "      <td>0.000000</td>\n",
              "      <td>0.000000</td>\n",
              "      <td>0.000000</td>\n",
              "      <td>0.000000</td>\n",
              "      <td>0.000000</td>\n",
              "      <td>0.000000</td>\n",
              "      <td>0.000000</td>\n",
              "      <td>0.000000</td>\n",
              "      <td>0.000000</td>\n",
              "      <td>0.000000</td>\n",
              "      <td>0.000000</td>\n",
              "      <td>0.000000</td>\n",
              "      <td>0.000000</td>\n",
              "      <td>0.000000</td>\n",
              "      <td>0.000000</td>\n",
              "      <td>0.000000</td>\n",
              "      <td>0.000000</td>\n",
              "      <td>0.000000</td>\n",
              "      <td>0.000000</td>\n",
              "      <td>0.000000</td>\n",
              "      <td>0.000000</td>\n",
              "      <td>0.000000</td>\n",
              "      <td>0.000000</td>\n",
              "      <td>0.000000</td>\n",
              "      <td>0.000000</td>\n",
              "      <td>0.000000</td>\n",
              "    </tr>\n",
              "    <tr>\n",
              "      <th>50%</th>\n",
              "      <td>25.000000</td>\n",
              "      <td>9.110586e-02</td>\n",
              "      <td>-3.681663e-01</td>\n",
              "      <td>-3.580012e-01</td>\n",
              "      <td>1.457754e-02</td>\n",
              "      <td>-2.748482e-01</td>\n",
              "      <td>-4.012312e-01</td>\n",
              "      <td>0.000000</td>\n",
              "      <td>0.000000</td>\n",
              "      <td>0.000000</td>\n",
              "      <td>0.000000</td>\n",
              "      <td>0.000000</td>\n",
              "      <td>0.000000</td>\n",
              "      <td>0.000000</td>\n",
              "      <td>0.000000</td>\n",
              "      <td>0.000000</td>\n",
              "      <td>0.000000</td>\n",
              "      <td>0.000000</td>\n",
              "      <td>0.000000</td>\n",
              "      <td>0.000000</td>\n",
              "      <td>0.000000</td>\n",
              "      <td>0.000000</td>\n",
              "      <td>0.000000</td>\n",
              "      <td>0.000000</td>\n",
              "      <td>0.000000</td>\n",
              "      <td>0.000000</td>\n",
              "      <td>0.000000</td>\n",
              "      <td>0.000000</td>\n",
              "      <td>0.000000</td>\n",
              "      <td>0.000000</td>\n",
              "      <td>0.000000</td>\n",
              "      <td>0.000000</td>\n",
              "      <td>0.000000</td>\n",
              "      <td>0.000000</td>\n",
              "      <td>0.000000</td>\n",
              "      <td>0.000000</td>\n",
              "      <td>0.000000</td>\n",
              "      <td>0.000000</td>\n",
              "      <td>0.000000</td>\n",
              "      <td>0.000000</td>\n",
              "      <td>...</td>\n",
              "      <td>0.000000</td>\n",
              "      <td>0.000000</td>\n",
              "      <td>0.000000</td>\n",
              "      <td>0.000000</td>\n",
              "      <td>0.000000</td>\n",
              "      <td>0.000000</td>\n",
              "      <td>0.000000</td>\n",
              "      <td>0.000000</td>\n",
              "      <td>0.000000</td>\n",
              "      <td>0.000000</td>\n",
              "      <td>0.000000</td>\n",
              "      <td>0.000000</td>\n",
              "      <td>0.000000</td>\n",
              "      <td>0.000000</td>\n",
              "      <td>0.000000</td>\n",
              "      <td>0.000000</td>\n",
              "      <td>0.000000</td>\n",
              "      <td>0.000000</td>\n",
              "      <td>0.000000</td>\n",
              "      <td>0.000000</td>\n",
              "      <td>0.000000</td>\n",
              "      <td>0.000000</td>\n",
              "      <td>0.000000</td>\n",
              "      <td>0.000000</td>\n",
              "      <td>0.000000</td>\n",
              "      <td>0.000000</td>\n",
              "      <td>0.000000</td>\n",
              "      <td>0.000000</td>\n",
              "      <td>0.000000</td>\n",
              "      <td>0.000000</td>\n",
              "      <td>0.000000</td>\n",
              "      <td>0.000000</td>\n",
              "      <td>0.000000</td>\n",
              "      <td>0.000000</td>\n",
              "      <td>0.000000</td>\n",
              "      <td>0.000000</td>\n",
              "      <td>0.000000</td>\n",
              "      <td>0.000000</td>\n",
              "      <td>0.000000</td>\n",
              "      <td>0.000000</td>\n",
              "    </tr>\n",
              "    <tr>\n",
              "      <th>75%</th>\n",
              "      <td>130.000000</td>\n",
              "      <td>7.990873e-01</td>\n",
              "      <td>-8.050287e-02</td>\n",
              "      <td>1.986725e-01</td>\n",
              "      <td>1.457754e-02</td>\n",
              "      <td>-1.226427e-01</td>\n",
              "      <td>4.649462e-01</td>\n",
              "      <td>0.000000</td>\n",
              "      <td>0.000000</td>\n",
              "      <td>0.000000</td>\n",
              "      <td>0.000000</td>\n",
              "      <td>0.000000</td>\n",
              "      <td>0.000000</td>\n",
              "      <td>0.000000</td>\n",
              "      <td>0.000000</td>\n",
              "      <td>0.000000</td>\n",
              "      <td>0.000000</td>\n",
              "      <td>0.000000</td>\n",
              "      <td>0.000000</td>\n",
              "      <td>0.000000</td>\n",
              "      <td>0.000000</td>\n",
              "      <td>0.000000</td>\n",
              "      <td>0.000000</td>\n",
              "      <td>0.000000</td>\n",
              "      <td>0.000000</td>\n",
              "      <td>0.000000</td>\n",
              "      <td>0.000000</td>\n",
              "      <td>0.000000</td>\n",
              "      <td>0.000000</td>\n",
              "      <td>0.000000</td>\n",
              "      <td>0.000000</td>\n",
              "      <td>0.000000</td>\n",
              "      <td>0.000000</td>\n",
              "      <td>0.000000</td>\n",
              "      <td>0.000000</td>\n",
              "      <td>0.000000</td>\n",
              "      <td>0.000000</td>\n",
              "      <td>0.000000</td>\n",
              "      <td>0.000000</td>\n",
              "      <td>0.000000</td>\n",
              "      <td>...</td>\n",
              "      <td>0.000000</td>\n",
              "      <td>0.000000</td>\n",
              "      <td>0.000000</td>\n",
              "      <td>0.000000</td>\n",
              "      <td>0.000000</td>\n",
              "      <td>0.000000</td>\n",
              "      <td>0.000000</td>\n",
              "      <td>0.000000</td>\n",
              "      <td>0.000000</td>\n",
              "      <td>0.000000</td>\n",
              "      <td>0.000000</td>\n",
              "      <td>0.000000</td>\n",
              "      <td>0.000000</td>\n",
              "      <td>0.000000</td>\n",
              "      <td>0.000000</td>\n",
              "      <td>0.000000</td>\n",
              "      <td>0.000000</td>\n",
              "      <td>0.000000</td>\n",
              "      <td>0.000000</td>\n",
              "      <td>0.000000</td>\n",
              "      <td>0.000000</td>\n",
              "      <td>0.000000</td>\n",
              "      <td>0.000000</td>\n",
              "      <td>0.000000</td>\n",
              "      <td>0.000000</td>\n",
              "      <td>0.000000</td>\n",
              "      <td>0.000000</td>\n",
              "      <td>0.000000</td>\n",
              "      <td>0.000000</td>\n",
              "      <td>0.000000</td>\n",
              "      <td>0.000000</td>\n",
              "      <td>0.000000</td>\n",
              "      <td>0.000000</td>\n",
              "      <td>0.000000</td>\n",
              "      <td>0.000000</td>\n",
              "      <td>0.000000</td>\n",
              "      <td>0.000000</td>\n",
              "      <td>0.000000</td>\n",
              "      <td>0.000000</td>\n",
              "      <td>0.000000</td>\n",
              "    </tr>\n",
              "    <tr>\n",
              "      <th>max</th>\n",
              "      <td>6250.000000</td>\n",
              "      <td>1.743062e+00</td>\n",
              "      <td>1.161718e+01</td>\n",
              "      <td>1.134497e+01</td>\n",
              "      <td>3.294348e+00</td>\n",
              "      <td>1.278707e+01</td>\n",
              "      <td>5.151748e+00</td>\n",
              "      <td>1.000000</td>\n",
              "      <td>1.000000</td>\n",
              "      <td>1.000000</td>\n",
              "      <td>1.000000</td>\n",
              "      <td>1.000000</td>\n",
              "      <td>1.000000</td>\n",
              "      <td>1.000000</td>\n",
              "      <td>1.000000</td>\n",
              "      <td>1.000000</td>\n",
              "      <td>1.000000</td>\n",
              "      <td>1.000000</td>\n",
              "      <td>1.000000</td>\n",
              "      <td>1.000000</td>\n",
              "      <td>1.000000</td>\n",
              "      <td>1.000000</td>\n",
              "      <td>1.000000</td>\n",
              "      <td>1.000000</td>\n",
              "      <td>1.000000</td>\n",
              "      <td>1.000000</td>\n",
              "      <td>1.000000</td>\n",
              "      <td>1.000000</td>\n",
              "      <td>1.000000</td>\n",
              "      <td>1.000000</td>\n",
              "      <td>1.000000</td>\n",
              "      <td>1.000000</td>\n",
              "      <td>1.000000</td>\n",
              "      <td>1.000000</td>\n",
              "      <td>1.000000</td>\n",
              "      <td>1.000000</td>\n",
              "      <td>1.000000</td>\n",
              "      <td>1.000000</td>\n",
              "      <td>1.000000</td>\n",
              "      <td>1.000000</td>\n",
              "      <td>...</td>\n",
              "      <td>1.000000</td>\n",
              "      <td>1.000000</td>\n",
              "      <td>1.000000</td>\n",
              "      <td>1.000000</td>\n",
              "      <td>1.000000</td>\n",
              "      <td>1.000000</td>\n",
              "      <td>1.000000</td>\n",
              "      <td>1.000000</td>\n",
              "      <td>1.000000</td>\n",
              "      <td>1.000000</td>\n",
              "      <td>1.000000</td>\n",
              "      <td>1.000000</td>\n",
              "      <td>1.000000</td>\n",
              "      <td>1.000000</td>\n",
              "      <td>1.000000</td>\n",
              "      <td>1.000000</td>\n",
              "      <td>1.000000</td>\n",
              "      <td>1.000000</td>\n",
              "      <td>1.000000</td>\n",
              "      <td>1.000000</td>\n",
              "      <td>1.000000</td>\n",
              "      <td>1.000000</td>\n",
              "      <td>1.000000</td>\n",
              "      <td>1.000000</td>\n",
              "      <td>1.000000</td>\n",
              "      <td>1.000000</td>\n",
              "      <td>1.000000</td>\n",
              "      <td>1.000000</td>\n",
              "      <td>1.000000</td>\n",
              "      <td>1.000000</td>\n",
              "      <td>1.000000</td>\n",
              "      <td>1.000000</td>\n",
              "      <td>1.000000</td>\n",
              "      <td>1.000000</td>\n",
              "      <td>1.000000</td>\n",
              "      <td>1.000000</td>\n",
              "      <td>1.000000</td>\n",
              "      <td>1.000000</td>\n",
              "      <td>1.000000</td>\n",
              "      <td>1.000000</td>\n",
              "    </tr>\n",
              "  </tbody>\n",
              "</table>\n",
              "<p>8 rows × 2441 columns</p>\n",
              "</div>"
            ],
            "text/plain": [
              "        suicides_no          year  ...  generation_Millenials  generation_Silent\n",
              "count  27416.000000  2.741600e+04  ...           27416.000000       27416.000000\n",
              "mean     196.169573  1.771546e-15  ...               0.210753           0.228480\n",
              "std      540.752165  1.000000e+00  ...               0.407851           0.419861\n",
              "min        0.000000 -1.914841e+00  ...               0.000000           0.000000\n",
              "25%        3.000000 -7.348724e-01  ...               0.000000           0.000000\n",
              "50%       25.000000  9.110586e-02  ...               0.000000           0.000000\n",
              "75%      130.000000  7.990873e-01  ...               0.000000           0.000000\n",
              "max     6250.000000  1.743062e+00  ...               1.000000           1.000000\n",
              "\n",
              "[8 rows x 2441 columns]"
            ]
          },
          "metadata": {
            "tags": []
          },
          "execution_count": 51
        }
      ]
    },
    {
      "cell_type": "markdown",
      "metadata": {
        "id": "nNjhSTlSrTx3"
      },
      "source": [
        "**X и Y Отброр признаков**"
      ]
    },
    {
      "cell_type": "code",
      "metadata": {
        "id": "Zt9tGN5crPRj"
      },
      "source": [
        "X = data.drop('suicides_no', axis = 1) \n",
        "y = data['suicides_no']\n",
        "feature_names = X.columns"
      ],
      "execution_count": 52,
      "outputs": []
    },
    {
      "cell_type": "code",
      "metadata": {
        "colab": {
          "base_uri": "https://localhost:8080/"
        },
        "id": "S9s1owRJrt-r",
        "outputId": "edd3f289-432c-4563-8ae6-155ce5993275"
      },
      "source": [
        "type(feature_names)"
      ],
      "execution_count": 53,
      "outputs": [
        {
          "output_type": "execute_result",
          "data": {
            "text/plain": [
              "pandas.core.indexes.base.Index"
            ]
          },
          "metadata": {
            "tags": []
          },
          "execution_count": 53
        }
      ]
    },
    {
      "cell_type": "code",
      "metadata": {
        "colab": {
          "base_uri": "https://localhost:8080/"
        },
        "id": "G5UwSGburwsa",
        "outputId": "58600b99-0471-42ee-9394-b9ab3017a7cf"
      },
      "source": [
        "feature_names"
      ],
      "execution_count": 54,
      "outputs": [
        {
          "output_type": "execute_result",
          "data": {
            "text/plain": [
              "Index(['year', 'population', 'suicides/100k pop', 'HDI for year',\n",
              "       ' gdp_for_year ($) ', 'gdp_per_capita ($)', 'country_Albania',\n",
              "       'country_Antigua and Barbuda', 'country_Argentina', 'country_Armenia',\n",
              "       ...\n",
              "       'country-year_Uzbekistan2011', 'country-year_Uzbekistan2012',\n",
              "       'country-year_Uzbekistan2013', 'country-year_Uzbekistan2014',\n",
              "       'generation_Boomers', 'generation_G.I. Generation',\n",
              "       'generation_Generation X', 'generation_Generation Z',\n",
              "       'generation_Millenials', 'generation_Silent'],\n",
              "      dtype='object', length=2440)"
            ]
          },
          "metadata": {
            "tags": []
          },
          "execution_count": 54
        }
      ]
    },
    {
      "cell_type": "code",
      "metadata": {
        "id": "8M8dwcCcryO6"
      },
      "source": [
        "X = X.to_numpy()"
      ],
      "execution_count": 55,
      "outputs": []
    },
    {
      "cell_type": "code",
      "metadata": {
        "id": "sq_Zgt0xr0fa"
      },
      "source": [
        "y = y.to_numpy()"
      ],
      "execution_count": 56,
      "outputs": []
    },
    {
      "cell_type": "code",
      "metadata": {
        "colab": {
          "base_uri": "https://localhost:8080/"
        },
        "id": "P35P1LrCr2GK",
        "outputId": "0d72bfe1-ff77-4879-aba8-a0bb2e7f77f2"
      },
      "source": [
        "print(X.shape)\n",
        "print(y.shape)\n",
        "N, d = X.shape"
      ],
      "execution_count": 57,
      "outputs": [
        {
          "output_type": "stream",
          "text": [
            "(27416, 2440)\n",
            "(27416,)\n"
          ],
          "name": "stdout"
        }
      ]
    },
    {
      "cell_type": "code",
      "metadata": {
        "colab": {
          "base_uri": "https://localhost:8080/"
        },
        "id": "6w0xUMHwr4Yi",
        "outputId": "904d93ca-3d43-475e-e599-c360869536e6"
      },
      "source": [
        "type(X)"
      ],
      "execution_count": 58,
      "outputs": [
        {
          "output_type": "execute_result",
          "data": {
            "text/plain": [
              "numpy.ndarray"
            ]
          },
          "metadata": {
            "tags": []
          },
          "execution_count": 58
        }
      ]
    },
    {
      "cell_type": "code",
      "metadata": {
        "colab": {
          "base_uri": "https://localhost:8080/"
        },
        "id": "dxD6jK_yr55y",
        "outputId": "cad3c596-6a7d-4d95-ec09-99eca56c7f53"
      },
      "source": [
        "type(y)"
      ],
      "execution_count": 59,
      "outputs": [
        {
          "output_type": "execute_result",
          "data": {
            "text/plain": [
              "numpy.ndarray"
            ]
          },
          "metadata": {
            "tags": []
          },
          "execution_count": 59
        }
      ]
    },
    {
      "cell_type": "markdown",
      "metadata": {
        "id": "5-lohKf-r-xR"
      },
      "source": [
        "**Разбиваем на обучающую и тестовую выборки**"
      ]
    },
    {
      "cell_type": "code",
      "metadata": {
        "colab": {
          "base_uri": "https://localhost:8080/"
        },
        "id": "PbZblbaJr7Oq",
        "outputId": "865700fc-fdf8-4c6f-d96f-192d813efad0"
      },
      "source": [
        "from sklearn.model_selection import train_test_split\n",
        "X_train, X_test, y_train, y_test = train_test_split(X, y, test_size = 0.3, random_state = 42)\n",
        "# тестовая выборка - 30% данных\n",
        "# random_state фиксирует split\n",
        "\n",
        "N_train, _ = X_train.shape \n",
        "N_test,  _ = X_test.shape \n",
        "print(N_train, N_test)\n",
        "\n",
        "print(\"X_train: \", X_train.shape)\n",
        "print(\"X_test:  \", X_test.shape)\n",
        "print(\"y_train: \", y_train.shape)\n",
        "print(\"y_test:  \", y_test.shape)"
      ],
      "execution_count": 60,
      "outputs": [
        {
          "output_type": "stream",
          "text": [
            "19191 8225\n",
            "X_train:  (19191, 2440)\n",
            "X_test:   (8225, 2440)\n",
            "y_train:  (19191,)\n",
            "y_test:   (8225,)\n"
          ],
          "name": "stdout"
        }
      ]
    },
    {
      "cell_type": "markdown",
      "metadata": {
        "id": "Z01Wts7isMOX"
      },
      "source": [
        "**kNN**"
      ]
    },
    {
      "cell_type": "markdown",
      "metadata": {
        "id": "XgSKi0iU7Zoy"
      },
      "source": [
        "Точность выборок для 1, 10, 20, 30, 40, 50 соседей"
      ]
    },
    {
      "cell_type": "code",
      "metadata": {
        "colab": {
          "base_uri": "https://localhost:8080/"
        },
        "id": "syactDYqsJVr",
        "outputId": "9d663b1d-6e24-4fef-ecf9-86bc11f0b8c5"
      },
      "source": [
        "from sklearn.neighbors import KNeighborsClassifier\n",
        "neighbors_array = np.array([1,10,20,30,40,50])\n",
        "for i in range (6):\n",
        "    knn = KNeighborsClassifier(n_neighbors = neighbors_array[i])\n",
        "    knn.fit(X_train, y_train)\n",
        "    print('neighbours =',neighbors_array[i],'train accuracy =',knn.score(X_train, y_train),'test accuracy =', knn.score(X_test, y_test))\n",
        "    i+=1"
      ],
      "execution_count": 61,
      "outputs": [
        {
          "output_type": "stream",
          "text": [
            "neighbours = 1 train accuracy = 1.0 test accuracy = 0.1657142857142857\n",
            "neighbours = 10 train accuracy = 0.2759626908446668 test accuracy = 0.18407294832826748\n",
            "neighbours = 20 train accuracy = 0.2343806992861237 test accuracy = 0.183951367781155\n",
            "neighbours = 30 train accuracy = 0.20989005262883642 test accuracy = 0.1829787234042553\n",
            "neighbours = 40 train accuracy = 0.19472669480485644 test accuracy = 0.17689969604863223\n",
            "neighbours = 50 train accuracy = 0.18472200510656037 test accuracy = 0.17483282674772035\n"
          ],
          "name": "stdout"
        }
      ]
    },
    {
      "cell_type": "markdown",
      "metadata": {
        "id": "ZssCyXtx7jgv"
      },
      "source": [
        "Посмотрим точность обучающей выборки для 1-9 соседей"
      ]
    },
    {
      "cell_type": "code",
      "metadata": {
        "colab": {
          "base_uri": "https://localhost:8080/"
        },
        "id": "xBN-dfswaa8i",
        "outputId": "d7066faf-c29f-4c98-d7e3-4be388cfa28d"
      },
      "source": [
        "from sklearn.neighbors import KNeighborsClassifier\n",
        "for i in range(9,0,-1):\n",
        "    knn = KNeighborsClassifier(n_neighbors = i)\n",
        "    knn.fit(X_train, y_train)\n",
        "\n",
        "    y_train_predict = knn.predict(X_train)\n",
        "    err_train = np.mean(y_train != y_train_predict)\n",
        "    accuracy=1-err_train\n",
        "    print('neighbours =',i, 'train error =',err_train,'train accuracy =',accuracy)"
      ],
      "execution_count": 62,
      "outputs": [
        {
          "output_type": "stream",
          "text": [
            "neighbours = 9 train error = 0.7180970246469699 train accuracy = 0.2819029753530301\n",
            "neighbours = 8 train error = 0.710801938408629 train accuracy = 0.28919806159137096\n",
            "neighbours = 7 train error = 0.7013704340576312 train accuracy = 0.2986295659423688\n",
            "neighbours = 6 train error = 0.6896461883174405 train accuracy = 0.3103538116825595\n",
            "neighbours = 5 train error = 0.6678651451201084 train accuracy = 0.3321348548798916\n",
            "neighbours = 4 train error = 0.6393622010317336 train accuracy = 0.3606377989682664\n",
            "neighbours = 3 train error = 0.5767807826585378 train accuracy = 0.4232192173414622\n",
            "neighbours = 2 train error = 0.42775259236100255 train accuracy = 0.5722474076389974\n",
            "neighbours = 1 train error = 0.0 train accuracy = 1.0\n"
          ],
          "name": "stdout"
        }
      ]
    },
    {
      "cell_type": "markdown",
      "metadata": {
        "id": "U2bqNU4d7fJD"
      },
      "source": [
        "Точность выборок для 2-9 соседей"
      ]
    },
    {
      "cell_type": "code",
      "metadata": {
        "colab": {
          "base_uri": "https://localhost:8080/"
        },
        "id": "vXv-3_nHnn0g",
        "outputId": "fb60f383-260f-4879-9c98-72587602ff81"
      },
      "source": [
        "neighbors_array = np.array([2,3,4,5,6,7,8,9])\n",
        "for i in range (8):\n",
        "    knn = KNeighborsClassifier(n_neighbors = neighbors_array[i])\n",
        "    knn.fit(X_train, y_train)\n",
        "    print('neighbours =',neighbors_array[i],'train accuracy =',knn.score(X_train, y_train),'test accuracy =', knn.score(X_test, y_test))\n",
        "    i+=1"
      ],
      "execution_count": 63,
      "outputs": [
        {
          "output_type": "stream",
          "text": [
            "neighbours = 2 train accuracy = 0.5722474076389974 test accuracy = 0.19574468085106383\n",
            "neighbours = 3 train accuracy = 0.4232192173414621 test accuracy = 0.19319148936170213\n",
            "neighbours = 4 train accuracy = 0.36063779896826637 test accuracy = 0.19148936170212766\n",
            "neighbours = 5 train accuracy = 0.33213485487989164 test accuracy = 0.19161094224924013\n",
            "neighbours = 6 train accuracy = 0.31035381168255954 test accuracy = 0.1900303951367781\n",
            "neighbours = 7 train accuracy = 0.29862956594236884 test accuracy = 0.18565349544072948\n",
            "neighbours = 8 train accuracy = 0.28919806159137096 test accuracy = 0.18443768996960486\n",
            "neighbours = 9 train accuracy = 0.28190297535303005 test accuracy = 0.1827355623100304\n"
          ],
          "name": "stdout"
        }
      ]
    },
    {
      "cell_type": "markdown",
      "metadata": {
        "id": "vpcsQ_JEsYDe"
      },
      "source": [
        "Самая высокая точность на обучающей выборке была достигнута с одним соседом. Максимальная точность на тестовой выборке была достигнута для двух соседей."
      ]
    },
    {
      "cell_type": "code",
      "metadata": {
        "id": "CeGCN5xj55Cp"
      },
      "source": [
        ""
      ],
      "execution_count": null,
      "outputs": []
    }
  ]
}